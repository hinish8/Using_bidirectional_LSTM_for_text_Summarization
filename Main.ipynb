{
  "cells": [
    {
      "cell_type": "markdown",
      "metadata": {
        "id": "k9-Z82i495Gl"
      },
      "source": [
        "#       Seq2Seq: Text Summarization with Keras\n",
        "####\n"
      ]
    },
    {
      "cell_type": "markdown",
      "metadata": {
        "id": "pw_oyfrE95Go"
      },
      "source": [
        "## Process\n",
        "1. Preprocessing\n",
        "2. Word2vec\n",
        "3. Building Seq2Seq Architecture\n",
        "4. Training with  BBC article&summary Dataset\n",
        "5. Generate Summary with my_summarizer"
      ]
    },
    {
      "cell_type": "markdown",
      "metadata": {
        "id": "jWs9WcJTcy3H"
      },
      "source": [
        "## Step 1. Import Data"
      ]
    },
    {
      "cell_type": "code",
      "execution_count": 16,
      "metadata": {
        "id": "E2QnkkQv95Gq"
      },
      "outputs": [],
      "source": [
        "import numpy as np\n",
        "import os\n",
        "import pandas as pd\n",
        "import re"
      ]
    },
    {
      "cell_type": "code",
      "execution_count": null,
      "metadata": {
        "colab": {
          "base_uri": "https://localhost:8080/",
          "height": 36
        },
        "id": "FvJvND72cy3I",
        "outputId": "91e89016-732e-4460-9bf1-8d3fd1b91541"
      },
      "outputs": [
        {
          "data": {
            "application/vnd.google.colaboratory.intrinsic+json": {
              "type": "string"
            },
            "text/plain": [
              "'/content'"
            ]
          },
          "execution_count": 2,
          "metadata": {},
          "output_type": "execute_result"
        }
      ],
      "source": [
        "pwd"
      ]
    },
    {
      "cell_type": "code",
      "execution_count": 8,
      "metadata": {
        "colab": {
          "base_uri": "https://localhost:8080/"
        },
        "id": "h93Gm_c0dE8x",
        "outputId": "11ab2b0e-02d5-4f5f-acd1-97ece04344de"
      },
      "outputs": [
        {
          "name": "stdout",
          "output_type": "stream",
          "text": [
            "Drive already mounted at /content/gdrive; to attempt to forcibly remount, call drive.mount(\"/content/gdrive\", force_remount=True).\n"
          ]
        }
      ],
      "source": [
        "from google.colab import drive\n",
        "drive.mount('/content/gdrive')"
      ]
    },
    {
      "cell_type": "code",
      "execution_count": 11,
      "metadata": {
        "id": "QeKq5tai95Gu"
      },
      "outputs": [],
      "source": [
        "news_category = [\"business\", \"entertainment\", \"politics\", \"sport\", \"tech\"]\n",
        "\n",
        "row_doc = \"/content/gdrive/My Drive/Colab Notebooks/NLP/Abstract Summarizer Bi-lstm/BBC News Summary/News Articles/\"\n",
        "summary_doc = \"/content/gdrive/My Drive/Colab Notebooks/NLP/Abstract Summarizer Bi-lstm/BBC News Summary/Summaries/\"\n",
        "# row_doc = \"C:\\\\Users\\\\hinish's laptop\\\\Desktop\\\\abstarct_summarizer_bi_lstm\\\\BBC News Summary\\\\News Articles\\\\\"\n",
        "# summary_doc = \"C:\\\\Users\\\\hinish's laptop\\\\Desktop\\\\abstarct_summarizer_bi_lstm\\\\BBC News Summary\\\\Summaries\\\\\"\n",
        "#![](http://abigailsee.com/img/pointer-gen.png)\n",
        "\n",
        "data={\"articles\":[], \"summaries\":[]}"
      ]
    },
    {
      "cell_type": "code",
      "execution_count": 12,
      "metadata": {
        "id": "682uVCoC95Gy"
      },
      "outputs": [],
      "source": [
        "import os\n",
        "directories = {\"news\": row_doc, \"summary\": summary_doc}\n",
        "row_dict = {}\n",
        "sum_dict = {}\n",
        "\n",
        "for path in directories.values():\n",
        "    if path == row_doc:\n",
        "        file_dict = row_dict\n",
        "    else:\n",
        "        file_dict = sum_dict\n",
        "    dire = path\n",
        "    for cat in news_category:\n",
        "        category = cat\n",
        "        files = os.listdir(dire + category)\n",
        "        file_dict[cat] = files"
      ]
    },
    {
      "cell_type": "code",
      "execution_count": 13,
      "metadata": {
        "id": "gM75fs9g95Hc"
      },
      "outputs": [],
      "source": [
        "row_data = {}\n",
        "for cat in row_dict.keys():\n",
        "    cat_dict = {}\n",
        "    # row_data_frame[cat] = []\n",
        "    for i in range(0, len(row_dict[cat])):\n",
        "        filename = row_dict[cat][i]\n",
        "        path = row_doc + cat + \"/\" + filename\n",
        "        with open(path, \"rb\") as f:\n",
        "            text = f.read()\n",
        "            cat_dict[filename[:3]] = text\n",
        "    row_data[cat] = cat_dict"
      ]
    },
    {
      "cell_type": "code",
      "execution_count": null,
      "metadata": {
        "id": "MjPzSMPT95Hg"
      },
      "outputs": [],
      "source": [
        "sum_data = {}\n",
        "for cat in sum_dict.keys():\n",
        "    cat_dict = {}\n",
        "    # row_data_frame[cat] = []\n",
        "    for i in range(0, len(sum_dict[cat])):\n",
        "        filename = sum_dict[cat][i]\n",
        "        path = summary_doc + cat + \"/\" + filename\n",
        "        with open(path, \"rb\") as f:\n",
        "            text = f.read()\n",
        "            cat_dict[filename[:3]] = text\n",
        "    sum_data[cat] = cat_dict"
      ]
    },
    {
      "cell_type": "code",
      "execution_count": null,
      "metadata": {
        "id": "du70GJ7o95H0",
        "scrolled": true
      },
      "outputs": [],
      "source": [
        "news_business = pd.DataFrame.from_dict(row_data[\"business\"], orient=\"index\", columns=[\"row_article\"])\n",
        "news_business.head(10)"
      ]
    },
    {
      "cell_type": "code",
      "execution_count": 17,
      "metadata": {
        "id": "ZKbrhIYw95H8"
      },
      "outputs": [],
      "source": [
        "#  news_category = [\"business\", \"entertainment\", \"politics\", \"sport\", \"tech\"]\n",
        "news_entertainment = pd.DataFrame.from_dict(row_data[\"entertainment\"], orient=\"index\", columns=[\"row_article\"])\n",
        "news_politics = pd.DataFrame.from_dict(row_data[\"politics\"], orient=\"index\", columns=[\"row_article\"])\n",
        "news_sport = pd.DataFrame.from_dict(row_data[\"sport\"], orient=\"index\", columns=[\"row_article\"])\n",
        "news_tech = pd.DataFrame.from_dict(row_data[\"tech\"], orient=\"index\", columns=[\"row_article\"])"
      ]
    },
    {
      "cell_type": "code",
      "execution_count": 18,
      "metadata": {
        "id": "KrSmXmON95IE"
      },
      "outputs": [],
      "source": [
        "# summary data\n",
        "summary_business = pd.DataFrame.from_dict(sum_data[\"business\"], orient=\"index\", columns=[\"summary\"])\n",
        "summary_entertainment = pd.DataFrame.from_dict(sum_data[\"entertainment\"], orient=\"index\", columns=[\"summary\"])\n",
        "summary_politics = pd.DataFrame.from_dict(sum_data[\"politics\"], orient=\"index\", columns=[\"summary\"])\n",
        "summary_sport = pd.DataFrame.from_dict(sum_data[\"sport\"], orient=\"index\", columns=[\"summary\"])\n",
        "summary_tech = pd.DataFrame.from_dict(sum_data[\"tech\"], orient=\"index\", columns=[\"summary\"])"
      ]
    },
    {
      "cell_type": "code",
      "execution_count": 19,
      "metadata": {
        "colab": {
          "base_uri": "https://localhost:8080/",
          "height": 206
        },
        "id": "UNL3-2xL95IJ",
        "outputId": "c77692f4-d8bf-4995-862e-ecdd2735c8b6"
      },
      "outputs": [
        {
          "data": {
            "application/vnd.google.colaboratory.intrinsic+json": {
              "summary": "{\n  \"name\": \"summary_business\",\n  \"rows\": 510,\n  \"fields\": [\n    {\n      \"column\": \"summary\",\n      \"properties\": {\n        \"dtype\": \"string\",\n        \"num_unique_values\": 500,\n        \"samples\": [\n          \"b'The US dollar hovered close to record lows against the euro on Friday as concern grows about the size of the US budget deficit.The dollar was trading at $1.3652 versus the euro on Friday morning after hitting a fresh record low of $1.3667 on Thursday.\\\"There are no dollar buyers now, especially after the Chicago data yesterday,\\\" said ABN Amro\\\\'s Paul Mackel.Mr Berlusconi said the euro\\\\'s strength was \\\"absolutely worrying\\\" for Italian exports.The Bush administration\\\\'s apparent unwillingness to intervene to support the dollar has caused further concern.At the same time, German Chancellor Gerhard Schroeder and Italian Prime Minister Silvio Berlusconi voiced concerns about the strength of the euro.'\",\n          \"b'BMW is to recall all cars equipped with a faulty diesel fuel-injection pump supplied by parts maker Robert Bosch.The German company is to extend a planned production break at one of its plants due to the faulty Bosch part.The faulty part does not represent a safety risk and the recall only affects pumps made in December and January.Audi said it had been hit by production bottlenecks, due to a shortage of unaffected Bosch parts.A spokesman for DaimlerChrysler, parent company of Mercedes Benz, said it will however have to halt some production.Audi and Mercedes Benz were also supplied with the defective diesel fuel-injection pumps but neither of them have to recall any vehicles.'\",\n          \"b'Laura Ashley is parting company with its chief executive Ainum Mohd-Saaid.In a statement issued on Thursday, Laura Ashley thanked Ms Mohd-Saaid for her services to the company.Ms Mohd-Saaid is to be replaced by Lillian Tan, presently a non-executive director of the company and head of a Malaysian retailer.\\\"Laura Ashley is a bit of a shrivelled husk of a company,\\\" said retail analyst Nick Bubb of Evolution Securities.Since 2002, Ms Tan has been managing director and chief executive of Metrojaya, one of the largest retail groups in Malaysia.Laura Ashley was founded by its late namesake in Kent in 1955, before moving to Mid Wales in 1961 where it still has its main UK factory.Laura Ashley, which floated on the London Stock Exchange for \\\\xc2\\\\xa3200m ($376m) in 1995, is majority-owned by Malaysia entrepreneur Dr Khoo Kay Peng.'\"\n        ],\n        \"semantic_type\": \"\",\n        \"description\": \"\"\n      }\n    }\n  ]\n}",
              "type": "dataframe",
              "variable_name": "summary_business"
            },
            "text/html": [
              "\n",
              "  <div id=\"df-d3b6d780-0885-4a2f-b2b4-5637cc1897ed\" class=\"colab-df-container\">\n",
              "    <div>\n",
              "<style scoped>\n",
              "    .dataframe tbody tr th:only-of-type {\n",
              "        vertical-align: middle;\n",
              "    }\n",
              "\n",
              "    .dataframe tbody tr th {\n",
              "        vertical-align: top;\n",
              "    }\n",
              "\n",
              "    .dataframe thead th {\n",
              "        text-align: right;\n",
              "    }\n",
              "</style>\n",
              "<table border=\"1\" class=\"dataframe\">\n",
              "  <thead>\n",
              "    <tr style=\"text-align: right;\">\n",
              "      <th></th>\n",
              "      <th>summary</th>\n",
              "    </tr>\n",
              "  </thead>\n",
              "  <tbody>\n",
              "    <tr>\n",
              "      <th>047</th>\n",
              "      <td>b'\"With this new order and new pricing in plac...</td>\n",
              "    </tr>\n",
              "    <tr>\n",
              "      <th>010</th>\n",
              "      <td>b\"A US government claim accusing the country's...</td>\n",
              "    </tr>\n",
              "    <tr>\n",
              "      <th>017</th>\n",
              "      <td>b\"On Tuesday, the company's administrator, tur...</td>\n",
              "    </tr>\n",
              "    <tr>\n",
              "      <th>015</th>\n",
              "      <td>b'In addition, if a flight is cancelled or del...</td>\n",
              "    </tr>\n",
              "    <tr>\n",
              "      <th>043</th>\n",
              "      <td>b'Women will be employed in Saudi Arabia\\'s fo...</td>\n",
              "    </tr>\n",
              "  </tbody>\n",
              "</table>\n",
              "</div>\n",
              "    <div class=\"colab-df-buttons\">\n",
              "\n",
              "  <div class=\"colab-df-container\">\n",
              "    <button class=\"colab-df-convert\" onclick=\"convertToInteractive('df-d3b6d780-0885-4a2f-b2b4-5637cc1897ed')\"\n",
              "            title=\"Convert this dataframe to an interactive table.\"\n",
              "            style=\"display:none;\">\n",
              "\n",
              "  <svg xmlns=\"http://www.w3.org/2000/svg\" height=\"24px\" viewBox=\"0 -960 960 960\">\n",
              "    <path d=\"M120-120v-720h720v720H120Zm60-500h600v-160H180v160Zm220 220h160v-160H400v160Zm0 220h160v-160H400v160ZM180-400h160v-160H180v160Zm440 0h160v-160H620v160ZM180-180h160v-160H180v160Zm440 0h160v-160H620v160Z\"/>\n",
              "  </svg>\n",
              "    </button>\n",
              "\n",
              "  <style>\n",
              "    .colab-df-container {\n",
              "      display:flex;\n",
              "      gap: 12px;\n",
              "    }\n",
              "\n",
              "    .colab-df-convert {\n",
              "      background-color: #E8F0FE;\n",
              "      border: none;\n",
              "      border-radius: 50%;\n",
              "      cursor: pointer;\n",
              "      display: none;\n",
              "      fill: #1967D2;\n",
              "      height: 32px;\n",
              "      padding: 0 0 0 0;\n",
              "      width: 32px;\n",
              "    }\n",
              "\n",
              "    .colab-df-convert:hover {\n",
              "      background-color: #E2EBFA;\n",
              "      box-shadow: 0px 1px 2px rgba(60, 64, 67, 0.3), 0px 1px 3px 1px rgba(60, 64, 67, 0.15);\n",
              "      fill: #174EA6;\n",
              "    }\n",
              "\n",
              "    .colab-df-buttons div {\n",
              "      margin-bottom: 4px;\n",
              "    }\n",
              "\n",
              "    [theme=dark] .colab-df-convert {\n",
              "      background-color: #3B4455;\n",
              "      fill: #D2E3FC;\n",
              "    }\n",
              "\n",
              "    [theme=dark] .colab-df-convert:hover {\n",
              "      background-color: #434B5C;\n",
              "      box-shadow: 0px 1px 3px 1px rgba(0, 0, 0, 0.15);\n",
              "      filter: drop-shadow(0px 1px 2px rgba(0, 0, 0, 0.3));\n",
              "      fill: #FFFFFF;\n",
              "    }\n",
              "  </style>\n",
              "\n",
              "    <script>\n",
              "      const buttonEl =\n",
              "        document.querySelector('#df-d3b6d780-0885-4a2f-b2b4-5637cc1897ed button.colab-df-convert');\n",
              "      buttonEl.style.display =\n",
              "        google.colab.kernel.accessAllowed ? 'block' : 'none';\n",
              "\n",
              "      async function convertToInteractive(key) {\n",
              "        const element = document.querySelector('#df-d3b6d780-0885-4a2f-b2b4-5637cc1897ed');\n",
              "        const dataTable =\n",
              "          await google.colab.kernel.invokeFunction('convertToInteractive',\n",
              "                                                    [key], {});\n",
              "        if (!dataTable) return;\n",
              "\n",
              "        const docLinkHtml = 'Like what you see? Visit the ' +\n",
              "          '<a target=\"_blank\" href=https://colab.research.google.com/notebooks/data_table.ipynb>data table notebook</a>'\n",
              "          + ' to learn more about interactive tables.';\n",
              "        element.innerHTML = '';\n",
              "        dataTable['output_type'] = 'display_data';\n",
              "        await google.colab.output.renderOutput(dataTable, element);\n",
              "        const docLink = document.createElement('div');\n",
              "        docLink.innerHTML = docLinkHtml;\n",
              "        element.appendChild(docLink);\n",
              "      }\n",
              "    </script>\n",
              "  </div>\n",
              "\n",
              "\n",
              "<div id=\"df-181ecdfb-82bc-4773-bd91-db5884ece6aa\">\n",
              "  <button class=\"colab-df-quickchart\" onclick=\"quickchart('df-181ecdfb-82bc-4773-bd91-db5884ece6aa')\"\n",
              "            title=\"Suggest charts\"\n",
              "            style=\"display:none;\">\n",
              "\n",
              "<svg xmlns=\"http://www.w3.org/2000/svg\" height=\"24px\"viewBox=\"0 0 24 24\"\n",
              "     width=\"24px\">\n",
              "    <g>\n",
              "        <path d=\"M19 3H5c-1.1 0-2 .9-2 2v14c0 1.1.9 2 2 2h14c1.1 0 2-.9 2-2V5c0-1.1-.9-2-2-2zM9 17H7v-7h2v7zm4 0h-2V7h2v10zm4 0h-2v-4h2v4z\"/>\n",
              "    </g>\n",
              "</svg>\n",
              "  </button>\n",
              "\n",
              "<style>\n",
              "  .colab-df-quickchart {\n",
              "      --bg-color: #E8F0FE;\n",
              "      --fill-color: #1967D2;\n",
              "      --hover-bg-color: #E2EBFA;\n",
              "      --hover-fill-color: #174EA6;\n",
              "      --disabled-fill-color: #AAA;\n",
              "      --disabled-bg-color: #DDD;\n",
              "  }\n",
              "\n",
              "  [theme=dark] .colab-df-quickchart {\n",
              "      --bg-color: #3B4455;\n",
              "      --fill-color: #D2E3FC;\n",
              "      --hover-bg-color: #434B5C;\n",
              "      --hover-fill-color: #FFFFFF;\n",
              "      --disabled-bg-color: #3B4455;\n",
              "      --disabled-fill-color: #666;\n",
              "  }\n",
              "\n",
              "  .colab-df-quickchart {\n",
              "    background-color: var(--bg-color);\n",
              "    border: none;\n",
              "    border-radius: 50%;\n",
              "    cursor: pointer;\n",
              "    display: none;\n",
              "    fill: var(--fill-color);\n",
              "    height: 32px;\n",
              "    padding: 0;\n",
              "    width: 32px;\n",
              "  }\n",
              "\n",
              "  .colab-df-quickchart:hover {\n",
              "    background-color: var(--hover-bg-color);\n",
              "    box-shadow: 0 1px 2px rgba(60, 64, 67, 0.3), 0 1px 3px 1px rgba(60, 64, 67, 0.15);\n",
              "    fill: var(--button-hover-fill-color);\n",
              "  }\n",
              "\n",
              "  .colab-df-quickchart-complete:disabled,\n",
              "  .colab-df-quickchart-complete:disabled:hover {\n",
              "    background-color: var(--disabled-bg-color);\n",
              "    fill: var(--disabled-fill-color);\n",
              "    box-shadow: none;\n",
              "  }\n",
              "\n",
              "  .colab-df-spinner {\n",
              "    border: 2px solid var(--fill-color);\n",
              "    border-color: transparent;\n",
              "    border-bottom-color: var(--fill-color);\n",
              "    animation:\n",
              "      spin 1s steps(1) infinite;\n",
              "  }\n",
              "\n",
              "  @keyframes spin {\n",
              "    0% {\n",
              "      border-color: transparent;\n",
              "      border-bottom-color: var(--fill-color);\n",
              "      border-left-color: var(--fill-color);\n",
              "    }\n",
              "    20% {\n",
              "      border-color: transparent;\n",
              "      border-left-color: var(--fill-color);\n",
              "      border-top-color: var(--fill-color);\n",
              "    }\n",
              "    30% {\n",
              "      border-color: transparent;\n",
              "      border-left-color: var(--fill-color);\n",
              "      border-top-color: var(--fill-color);\n",
              "      border-right-color: var(--fill-color);\n",
              "    }\n",
              "    40% {\n",
              "      border-color: transparent;\n",
              "      border-right-color: var(--fill-color);\n",
              "      border-top-color: var(--fill-color);\n",
              "    }\n",
              "    60% {\n",
              "      border-color: transparent;\n",
              "      border-right-color: var(--fill-color);\n",
              "    }\n",
              "    80% {\n",
              "      border-color: transparent;\n",
              "      border-right-color: var(--fill-color);\n",
              "      border-bottom-color: var(--fill-color);\n",
              "    }\n",
              "    90% {\n",
              "      border-color: transparent;\n",
              "      border-bottom-color: var(--fill-color);\n",
              "    }\n",
              "  }\n",
              "</style>\n",
              "\n",
              "  <script>\n",
              "    async function quickchart(key) {\n",
              "      const quickchartButtonEl =\n",
              "        document.querySelector('#' + key + ' button');\n",
              "      quickchartButtonEl.disabled = true;  // To prevent multiple clicks.\n",
              "      quickchartButtonEl.classList.add('colab-df-spinner');\n",
              "      try {\n",
              "        const charts = await google.colab.kernel.invokeFunction(\n",
              "            'suggestCharts', [key], {});\n",
              "      } catch (error) {\n",
              "        console.error('Error during call to suggestCharts:', error);\n",
              "      }\n",
              "      quickchartButtonEl.classList.remove('colab-df-spinner');\n",
              "      quickchartButtonEl.classList.add('colab-df-quickchart-complete');\n",
              "    }\n",
              "    (() => {\n",
              "      let quickchartButtonEl =\n",
              "        document.querySelector('#df-181ecdfb-82bc-4773-bd91-db5884ece6aa button');\n",
              "      quickchartButtonEl.style.display =\n",
              "        google.colab.kernel.accessAllowed ? 'block' : 'none';\n",
              "    })();\n",
              "  </script>\n",
              "</div>\n",
              "\n",
              "    </div>\n",
              "  </div>\n"
            ],
            "text/plain": [
              "                                               summary\n",
              "047  b'\"With this new order and new pricing in plac...\n",
              "010  b\"A US government claim accusing the country's...\n",
              "017  b\"On Tuesday, the company's administrator, tur...\n",
              "015  b'In addition, if a flight is cancelled or del...\n",
              "043  b'Women will be employed in Saudi Arabia\\'s fo..."
            ]
          },
          "execution_count": 19,
          "metadata": {},
          "output_type": "execute_result"
        }
      ],
      "source": [
        "summary_business.head()"
      ]
    },
    {
      "cell_type": "code",
      "execution_count": 20,
      "metadata": {
        "id": "Aq407qkG95IO"
      },
      "outputs": [],
      "source": [
        "business = news_business.join(summary_business, how='inner')\n",
        "entertainment = news_entertainment.join(summary_entertainment, how='inner')\n",
        "politics = news_politics.join(summary_politics, how='inner')\n",
        "sport = news_sport.join(summary_sport, how='inner')\n",
        "tech = news_tech.join(summary_tech, how='inner')"
      ]
    },
    {
      "cell_type": "code",
      "execution_count": 21,
      "metadata": {
        "id": "CKbjkn-r95IR"
      },
      "outputs": [],
      "source": [
        "business = news_business.join(summary_business, how='inner')"
      ]
    },
    {
      "cell_type": "code",
      "execution_count": 22,
      "metadata": {
        "colab": {
          "base_uri": "https://localhost:8080/",
          "height": 206
        },
        "id": "fKfHtKbL95IW",
        "outputId": "1bdecaec-5a6d-4f81-cc48-2c1a9963eb5d"
      },
      "outputs": [
        {
          "data": {
            "application/vnd.google.colaboratory.intrinsic+json": {
              "summary": "{\n  \"name\": \"business\",\n  \"rows\": 510,\n  \"fields\": [\n    {\n      \"column\": \"row_article\",\n      \"properties\": {\n        \"dtype\": \"string\",\n        \"num_unique_values\": 503,\n        \"samples\": [\n          \"b'Asia shares defy post-quake gloom\\\\n\\\\nIndonesian, Indian and Hong Kong stock markets reached record highs.\\\\n\\\\nInvestors seemed to feel that some of the worst-affected areas were so under-developed that the tragedy would have little impact on Asia\\\\'s listed firms. \\\"Obviously with a lot of loss of life, a lot of time is needed to clean up the mess, bury the people and find the missing,\\\" said ABN Amro\\\\'s Eddie Wong. \\\"[But] it\\\\'s not necessarily a really big thing in the economic sense.\\\"\\\\n\\\\nIndia\\\\'s Bombay Stock Exchange inched slightly above its previous record close on Wednesday. Expectations of strong corporate earnings in 2005 drove the Indonesian stock exchange in Jakarta to a record high on Wednesday. In Hong Kong, the Hang Seng index may be benefiting in part from the potential for its listed property companies to gain from rebuilding contracts in the tsunami-affected regions of South East Asia. In Sri Lanka, some economists have said that as much as 1% of annual growth may be lost. Sri Lanka\\\\'s stock market has fallen about 5% since the weekend, but it is still 40% higher than at the start of 2004.\\\\n\\\\nThailand may lose 30bn baht (\\\\xc2\\\\xa3398m; $768m) in earnings from tourism over the next three months, according to tourism minister Sontaya Kunplome.\\\\n\\\\nIn the affected provinces, he expects the loss of tourism revenue to be offset by government reconstruction spending. Thailand intends to spend a similar sum - around 30bn baht - on the rebuilding work. \\\"It will take until the fourth quarter of next year before tourist visitors in Phuket and five other provinces return to their normal level,\\\" said Naris Chaiyasoot, director general at the ministry\\\\'s fiscal policy office. In the Maldives the cost of reconstruction could wipe out economic growth, according to a government spokesman. \\\"Our nation is in peril here,\\\" said Ahmed Shaheed, the chief government spokesman. He estimated the economic cost of the disaster at hundreds of millions of dollars. The Maldives has gross domestic product of $660m. \\\"It won\\\\'t be surprising if the cost exceeds our GDP,\\\" he said. \\\"In the last few years, we made great progress in our standard of living - the United Nations recognised this. Now we see this can disappear in a few days, a few minutes.\\\" Shaheed noted that investment in a single tourist resort - the economic mainstay - could run to $40m. Between 10 and 12 of the 80-odd resorts have been severely damaged, and a similar number have suffered significant damage.\\\\n\\\\nHowever, many experts, including the World Bank, have pointed out that it is still difficult to assess the magnitude of the disaster and its likely economic impact. In part, this is because of its scale, and because delivering aid and recovering the dead remain priorities. \\\"Calculators will have to wait,\\\" said an IMF official in a briefing on Wednesday. \\\"The financial and world community will be turning toward reconstruction efforts and at that point people will begin to have a sense of the financial impact.\\\"\\\\n'\",\n          \"b'BMW drives record sales in Asia\\\\n\\\\nBMW has forecast sales growth of at least 10% in Asia this year after registering record sales there in 2004.\\\\n\\\\nThe luxury carmaker saw strong sales of its three marques - BMW, Mini and Rolls-Royce - in Asia last year after the launch of three new models. The company, which is vying with Mercedes-Benz for the title of leading premium carmaker, is confident about its prospects for the region in 2005. It is launching a revamped version of its 3-Series saloon class next month.\\\\n\\\\nBMW sold nearly 95,000 cars in Asia last year, up 2.6% on 2003.\\\\n\\\\nBMW-brand sales rose 2.3% to 80,600 while sales of Mini models rose 3.6% to 14,800. There was also a significant increase in sales of Rolls-Royces on the continent. BMW sold more than 100 of the iconic models compared with just ten the previous year. The German carmaker is aiming to boost annual sales in Asia to 150,000 by 2008. \\\"Here in Asia, we consider a double-digit increase in retail on the order of 10 to 15% to be realistic on the basis of current features,\\\" said Helmut Panke, BMW\\\\'s group chief executive.\\\\n\\\\nChina remains the main area of concern for BMW after sales there fell 16% last year. However, BMW is hopeful of a much better year in 2005 as its direct investment in China begins to pay dividends. The company only began assembling luxury high-powered sedans in China in 2003. 2004 was generally a good year for BMW, which saw revenues from its core car-making operations rise 11%.\\\\n'\",\n          \"b'Dutch bank to lay off 2,850 staff\\\\n\\\\nABN Amro, the Netherlands\\\\' largest bank, is to cut 2,850 jobs as a result of falling profits.\\\\n\\\\nThe cuts - amounting to 3% of the bank\\\\'s workforce - will result in a one-off charge of 790m euros ($1.1bn). About 1,100 jobs will go in investment banking while 1,200 and 550 will go in IT and human resources respectively. ABN Amro is the third large European bank to announce cutbacks in the past month following Deutsche Bank and Credit Suisse Group.\\\\n\\\\nIts profitability has been hit by a fall in mortgage lending in the United States - the bank\\\\'s largest single market - following recent interest rate rises. ABN Amro\\\\'s operations in the Netherlands and the United Kingdom will be hardest hit. Jobs will also be lost in the US - which accounted for 46% of profit in the first half of 2004 - and across its operations in the Americas and Asia-Pacific regions.\\\\n\\\\nThe restructuring is designed to improve efficiency by reducing administrative costs and increasing focus on client service. The bank said it was on course for a 10% rise in net income this year but operating profits are set to fall because of a fall in US revenues. ABN Amro currently has more than 100,000 staff. \\\"To get any profit growth in the coming years, they will have to lower costs, so shedding jobs makes total sense,\\\" Ivo Geijsen, an analyst with Bank Oyens & Van Eeghen, told Bloomberg. Europe\\\\'s leading banks seem set for a period of retrenchment. Deutsche Bank said earlier this month it would reduce its German workforce by 1,920 while as many as 300 jobs will be lost at Credit Suisse First Boston.\\\\n'\"\n        ],\n        \"semantic_type\": \"\",\n        \"description\": \"\"\n      }\n    },\n    {\n      \"column\": \"summary\",\n      \"properties\": {\n        \"dtype\": \"string\",\n        \"num_unique_values\": 500,\n        \"samples\": [\n          \"b'\\\"The three years of stagnation in the German economy came to an end in 2004.The seasonally adjusted jobless total rose a higher than expected 17,000 to 4.483 million, the Bundesbank said.German unemployment rose for the 11th consecutive month in December - making the year\\\\'s average jobless total the highest since reunification.Europe\\\\'s biggest economy has been too weak to create work as it struggles to shake off three years of economic stagnation.By 2010, however, the Hartz IV reforms should help cut the average jobless rate to between 3% and 5%, he added.\\\"I don\\\\'t expect a strong and lasting turnaround until 2006,\\\" German Economy minister Wolfgang Clement said.Unadjusted, the figures showed unemployment rose 206,900 to 4.64 million - with many sectors such as construction laying off workers amid bad weather.'\",\n          \"b'BMW has forecast sales growth of at least 10% in Asia this year after registering record sales there in 2004.The luxury carmaker saw strong sales of its three marques - BMW, Mini and Rolls-Royce - in Asia last year after the launch of three new models.China remains the main area of concern for BMW after sales there fell 16% last year.BMW sold nearly 95,000 cars in Asia last year, up 2.6% on 2003.The German carmaker is aiming to boost annual sales in Asia to 150,000 by 2008.BMW sold more than 100 of the iconic models compared with just ten the previous year.'\",\n          \"b\\\"Less than a quarter of companies (24%) get their corporate social responsibility (CSR) reports independently verified to provide assurances they are accurate and complete, says the survey.The UK government will soon require all quoted companies to report their social and environmental risks in a chapter in their annual reports, called the Operating and Financial Review.They are usually called corporate social responsibility (CSR) reports, sustainability reports, or social and environmental reports.Nearly 20% more UK top 250 firms produced non-financial reports on social and environment issues than last year.Peter Knight, director of Context, says 24 UK top 250 companies reported for the first time this year and, in general, the quality of reports has improved.But of the 145 companies reporting, 76% didn't examine their supply chains, says the annual Directions survey.The survey is published by corporate social responsibility firm Context and branding firm SalterBaxter.\\\"\"\n        ],\n        \"semantic_type\": \"\",\n        \"description\": \"\"\n      }\n    }\n  ]\n}",
              "type": "dataframe",
              "variable_name": "business"
            },
            "text/html": [
              "\n",
              "  <div id=\"df-cca3b86a-a4c1-48e4-9570-c97a877775b8\" class=\"colab-df-container\">\n",
              "    <div>\n",
              "<style scoped>\n",
              "    .dataframe tbody tr th:only-of-type {\n",
              "        vertical-align: middle;\n",
              "    }\n",
              "\n",
              "    .dataframe tbody tr th {\n",
              "        vertical-align: top;\n",
              "    }\n",
              "\n",
              "    .dataframe thead th {\n",
              "        text-align: right;\n",
              "    }\n",
              "</style>\n",
              "<table border=\"1\" class=\"dataframe\">\n",
              "  <thead>\n",
              "    <tr style=\"text-align: right;\">\n",
              "      <th></th>\n",
              "      <th>row_article</th>\n",
              "      <th>summary</th>\n",
              "    </tr>\n",
              "  </thead>\n",
              "  <tbody>\n",
              "    <tr>\n",
              "      <th>012</th>\n",
              "      <td>b'Indonesians face fuel price rise\\n\\nIndonesi...</td>\n",
              "      <td>b\"Indonesia's government has confirmed it is c...</td>\n",
              "    </tr>\n",
              "    <tr>\n",
              "      <th>004</th>\n",
              "      <td>b'High fuel prices hit BA\\'s profits\\n\\nBritis...</td>\n",
              "      <td>b'Rod Eddington, BA\\'s chief executive, said t...</td>\n",
              "    </tr>\n",
              "    <tr>\n",
              "      <th>008</th>\n",
              "      <td>b'India calls for fair trade rules\\n\\nIndia, w...</td>\n",
              "      <td>b\"At a conference on developing enterprise hos...</td>\n",
              "    </tr>\n",
              "    <tr>\n",
              "      <th>010</th>\n",
              "      <td>b\"Court rejects $280bn tobacco case\\n\\nA US go...</td>\n",
              "      <td>b\"A US government claim accusing the country's...</td>\n",
              "    </tr>\n",
              "    <tr>\n",
              "      <th>005</th>\n",
              "      <td>b\"Pernod takeover talk lifts Domecq\\n\\nShares ...</td>\n",
              "      <td>b\"Pernod has reduced the debt it took on to fu...</td>\n",
              "    </tr>\n",
              "  </tbody>\n",
              "</table>\n",
              "</div>\n",
              "    <div class=\"colab-df-buttons\">\n",
              "\n",
              "  <div class=\"colab-df-container\">\n",
              "    <button class=\"colab-df-convert\" onclick=\"convertToInteractive('df-cca3b86a-a4c1-48e4-9570-c97a877775b8')\"\n",
              "            title=\"Convert this dataframe to an interactive table.\"\n",
              "            style=\"display:none;\">\n",
              "\n",
              "  <svg xmlns=\"http://www.w3.org/2000/svg\" height=\"24px\" viewBox=\"0 -960 960 960\">\n",
              "    <path d=\"M120-120v-720h720v720H120Zm60-500h600v-160H180v160Zm220 220h160v-160H400v160Zm0 220h160v-160H400v160ZM180-400h160v-160H180v160Zm440 0h160v-160H620v160ZM180-180h160v-160H180v160Zm440 0h160v-160H620v160Z\"/>\n",
              "  </svg>\n",
              "    </button>\n",
              "\n",
              "  <style>\n",
              "    .colab-df-container {\n",
              "      display:flex;\n",
              "      gap: 12px;\n",
              "    }\n",
              "\n",
              "    .colab-df-convert {\n",
              "      background-color: #E8F0FE;\n",
              "      border: none;\n",
              "      border-radius: 50%;\n",
              "      cursor: pointer;\n",
              "      display: none;\n",
              "      fill: #1967D2;\n",
              "      height: 32px;\n",
              "      padding: 0 0 0 0;\n",
              "      width: 32px;\n",
              "    }\n",
              "\n",
              "    .colab-df-convert:hover {\n",
              "      background-color: #E2EBFA;\n",
              "      box-shadow: 0px 1px 2px rgba(60, 64, 67, 0.3), 0px 1px 3px 1px rgba(60, 64, 67, 0.15);\n",
              "      fill: #174EA6;\n",
              "    }\n",
              "\n",
              "    .colab-df-buttons div {\n",
              "      margin-bottom: 4px;\n",
              "    }\n",
              "\n",
              "    [theme=dark] .colab-df-convert {\n",
              "      background-color: #3B4455;\n",
              "      fill: #D2E3FC;\n",
              "    }\n",
              "\n",
              "    [theme=dark] .colab-df-convert:hover {\n",
              "      background-color: #434B5C;\n",
              "      box-shadow: 0px 1px 3px 1px rgba(0, 0, 0, 0.15);\n",
              "      filter: drop-shadow(0px 1px 2px rgba(0, 0, 0, 0.3));\n",
              "      fill: #FFFFFF;\n",
              "    }\n",
              "  </style>\n",
              "\n",
              "    <script>\n",
              "      const buttonEl =\n",
              "        document.querySelector('#df-cca3b86a-a4c1-48e4-9570-c97a877775b8 button.colab-df-convert');\n",
              "      buttonEl.style.display =\n",
              "        google.colab.kernel.accessAllowed ? 'block' : 'none';\n",
              "\n",
              "      async function convertToInteractive(key) {\n",
              "        const element = document.querySelector('#df-cca3b86a-a4c1-48e4-9570-c97a877775b8');\n",
              "        const dataTable =\n",
              "          await google.colab.kernel.invokeFunction('convertToInteractive',\n",
              "                                                    [key], {});\n",
              "        if (!dataTable) return;\n",
              "\n",
              "        const docLinkHtml = 'Like what you see? Visit the ' +\n",
              "          '<a target=\"_blank\" href=https://colab.research.google.com/notebooks/data_table.ipynb>data table notebook</a>'\n",
              "          + ' to learn more about interactive tables.';\n",
              "        element.innerHTML = '';\n",
              "        dataTable['output_type'] = 'display_data';\n",
              "        await google.colab.output.renderOutput(dataTable, element);\n",
              "        const docLink = document.createElement('div');\n",
              "        docLink.innerHTML = docLinkHtml;\n",
              "        element.appendChild(docLink);\n",
              "      }\n",
              "    </script>\n",
              "  </div>\n",
              "\n",
              "\n",
              "<div id=\"df-1aa61d3d-1220-443b-bb92-2a03bc27d04c\">\n",
              "  <button class=\"colab-df-quickchart\" onclick=\"quickchart('df-1aa61d3d-1220-443b-bb92-2a03bc27d04c')\"\n",
              "            title=\"Suggest charts\"\n",
              "            style=\"display:none;\">\n",
              "\n",
              "<svg xmlns=\"http://www.w3.org/2000/svg\" height=\"24px\"viewBox=\"0 0 24 24\"\n",
              "     width=\"24px\">\n",
              "    <g>\n",
              "        <path d=\"M19 3H5c-1.1 0-2 .9-2 2v14c0 1.1.9 2 2 2h14c1.1 0 2-.9 2-2V5c0-1.1-.9-2-2-2zM9 17H7v-7h2v7zm4 0h-2V7h2v10zm4 0h-2v-4h2v4z\"/>\n",
              "    </g>\n",
              "</svg>\n",
              "  </button>\n",
              "\n",
              "<style>\n",
              "  .colab-df-quickchart {\n",
              "      --bg-color: #E8F0FE;\n",
              "      --fill-color: #1967D2;\n",
              "      --hover-bg-color: #E2EBFA;\n",
              "      --hover-fill-color: #174EA6;\n",
              "      --disabled-fill-color: #AAA;\n",
              "      --disabled-bg-color: #DDD;\n",
              "  }\n",
              "\n",
              "  [theme=dark] .colab-df-quickchart {\n",
              "      --bg-color: #3B4455;\n",
              "      --fill-color: #D2E3FC;\n",
              "      --hover-bg-color: #434B5C;\n",
              "      --hover-fill-color: #FFFFFF;\n",
              "      --disabled-bg-color: #3B4455;\n",
              "      --disabled-fill-color: #666;\n",
              "  }\n",
              "\n",
              "  .colab-df-quickchart {\n",
              "    background-color: var(--bg-color);\n",
              "    border: none;\n",
              "    border-radius: 50%;\n",
              "    cursor: pointer;\n",
              "    display: none;\n",
              "    fill: var(--fill-color);\n",
              "    height: 32px;\n",
              "    padding: 0;\n",
              "    width: 32px;\n",
              "  }\n",
              "\n",
              "  .colab-df-quickchart:hover {\n",
              "    background-color: var(--hover-bg-color);\n",
              "    box-shadow: 0 1px 2px rgba(60, 64, 67, 0.3), 0 1px 3px 1px rgba(60, 64, 67, 0.15);\n",
              "    fill: var(--button-hover-fill-color);\n",
              "  }\n",
              "\n",
              "  .colab-df-quickchart-complete:disabled,\n",
              "  .colab-df-quickchart-complete:disabled:hover {\n",
              "    background-color: var(--disabled-bg-color);\n",
              "    fill: var(--disabled-fill-color);\n",
              "    box-shadow: none;\n",
              "  }\n",
              "\n",
              "  .colab-df-spinner {\n",
              "    border: 2px solid var(--fill-color);\n",
              "    border-color: transparent;\n",
              "    border-bottom-color: var(--fill-color);\n",
              "    animation:\n",
              "      spin 1s steps(1) infinite;\n",
              "  }\n",
              "\n",
              "  @keyframes spin {\n",
              "    0% {\n",
              "      border-color: transparent;\n",
              "      border-bottom-color: var(--fill-color);\n",
              "      border-left-color: var(--fill-color);\n",
              "    }\n",
              "    20% {\n",
              "      border-color: transparent;\n",
              "      border-left-color: var(--fill-color);\n",
              "      border-top-color: var(--fill-color);\n",
              "    }\n",
              "    30% {\n",
              "      border-color: transparent;\n",
              "      border-left-color: var(--fill-color);\n",
              "      border-top-color: var(--fill-color);\n",
              "      border-right-color: var(--fill-color);\n",
              "    }\n",
              "    40% {\n",
              "      border-color: transparent;\n",
              "      border-right-color: var(--fill-color);\n",
              "      border-top-color: var(--fill-color);\n",
              "    }\n",
              "    60% {\n",
              "      border-color: transparent;\n",
              "      border-right-color: var(--fill-color);\n",
              "    }\n",
              "    80% {\n",
              "      border-color: transparent;\n",
              "      border-right-color: var(--fill-color);\n",
              "      border-bottom-color: var(--fill-color);\n",
              "    }\n",
              "    90% {\n",
              "      border-color: transparent;\n",
              "      border-bottom-color: var(--fill-color);\n",
              "    }\n",
              "  }\n",
              "</style>\n",
              "\n",
              "  <script>\n",
              "    async function quickchart(key) {\n",
              "      const quickchartButtonEl =\n",
              "        document.querySelector('#' + key + ' button');\n",
              "      quickchartButtonEl.disabled = true;  // To prevent multiple clicks.\n",
              "      quickchartButtonEl.classList.add('colab-df-spinner');\n",
              "      try {\n",
              "        const charts = await google.colab.kernel.invokeFunction(\n",
              "            'suggestCharts', [key], {});\n",
              "      } catch (error) {\n",
              "        console.error('Error during call to suggestCharts:', error);\n",
              "      }\n",
              "      quickchartButtonEl.classList.remove('colab-df-spinner');\n",
              "      quickchartButtonEl.classList.add('colab-df-quickchart-complete');\n",
              "    }\n",
              "    (() => {\n",
              "      let quickchartButtonEl =\n",
              "        document.querySelector('#df-1aa61d3d-1220-443b-bb92-2a03bc27d04c button');\n",
              "      quickchartButtonEl.style.display =\n",
              "        google.colab.kernel.accessAllowed ? 'block' : 'none';\n",
              "    })();\n",
              "  </script>\n",
              "</div>\n",
              "\n",
              "    </div>\n",
              "  </div>\n"
            ],
            "text/plain": [
              "                                           row_article  \\\n",
              "012  b'Indonesians face fuel price rise\\n\\nIndonesi...   \n",
              "004  b'High fuel prices hit BA\\'s profits\\n\\nBritis...   \n",
              "008  b'India calls for fair trade rules\\n\\nIndia, w...   \n",
              "010  b\"Court rejects $280bn tobacco case\\n\\nA US go...   \n",
              "005  b\"Pernod takeover talk lifts Domecq\\n\\nShares ...   \n",
              "\n",
              "                                               summary  \n",
              "012  b\"Indonesia's government has confirmed it is c...  \n",
              "004  b'Rod Eddington, BA\\'s chief executive, said t...  \n",
              "008  b\"At a conference on developing enterprise hos...  \n",
              "010  b\"A US government claim accusing the country's...  \n",
              "005  b\"Pernod has reduced the debt it took on to fu...  "
            ]
          },
          "execution_count": 22,
          "metadata": {},
          "output_type": "execute_result"
        }
      ],
      "source": [
        "business.head()"
      ]
    },
    {
      "cell_type": "code",
      "execution_count": 23,
      "metadata": {
        "colab": {
          "base_uri": "https://localhost:8080/"
        },
        "id": "_sUHqLUJ95Ib",
        "outputId": "4e538f5b-766d-46fe-cf8d-590b52e9c6e5"
      },
      "outputs": [
        {
          "name": "stdout",
          "output_type": "stream",
          "text": [
            "row 1847\n",
            "sum 834\n"
          ]
        }
      ],
      "source": [
        "print(\"row\", len(business.iloc[0,0]))\n",
        "print(\"sum\", len(business.iloc[0,1]))"
      ]
    },
    {
      "cell_type": "code",
      "execution_count": 24,
      "metadata": {
        "id": "VthiJz-h95Ij"
      },
      "outputs": [],
      "source": [
        "list_df = [business, entertainment, politics, sport, tech]\n",
        "length = 0\n",
        "for df in list_df:\n",
        "    length += len(df)"
      ]
    },
    {
      "cell_type": "code",
      "execution_count": 25,
      "metadata": {
        "colab": {
          "base_uri": "https://localhost:8080/"
        },
        "id": "hj44ZFO-95Iu",
        "outputId": "fa6f68ff-9417-45e9-f26f-1595e3f79059"
      },
      "outputs": [
        {
          "name": "stdout",
          "output_type": "stream",
          "text": [
            "length of all data:  2225\n"
          ]
        }
      ],
      "source": [
        "print(\"length of all data: \", length)"
      ]
    },
    {
      "cell_type": "code",
      "execution_count": 26,
      "metadata": {
        "colab": {
          "base_uri": "https://localhost:8080/"
        },
        "id": "vFtKW1DS95I2",
        "outputId": "0557dda3-89cc-4df0-86a7-76f58e2d362e"
      },
      "outputs": [
        {
          "data": {
            "text/plain": [
              "2225"
            ]
          },
          "execution_count": 26,
          "metadata": {},
          "output_type": "execute_result"
        }
      ],
      "source": [
        "bbc_df = pd.concat([business, entertainment, politics, sport, tech], ignore_index=True)\n",
        "len(bbc_df)"
      ]
    },
    {
      "cell_type": "markdown",
      "metadata": {
        "id": "xogCv95T95JF"
      },
      "source": [
        "## Step 2. Preprocessing Text Data\n",
        "1. Clean Text\n",
        "2. Tokenize\n",
        "3. Vocabrary\n",
        "4. Padding\n",
        "5. One-Hot Encoding\n",
        "6. Reshape to (MAX_LEN, One-Hot Encoding DIM)"
      ]
    },
    {
      "cell_type": "markdown",
      "metadata": {
        "id": "y2un_KkA95JU"
      },
      "source": [
        "### 2-1. Clean Text"
      ]
    },
    {
      "cell_type": "code",
      "execution_count": 27,
      "metadata": {
        "id": "CxQY2wvq95JJ"
      },
      "outputs": [],
      "source": [
        "def cleantext(text):\n",
        "    text = str(text)\n",
        "    text=text.split()\n",
        "    words=[]\n",
        "    for t in text:\n",
        "        if t.isalpha():\n",
        "            words.append(t)\n",
        "    text=\" \".join(words)\n",
        "    text=text.lower()\n",
        "    text=re.sub(r\"what's\",\"what is \",text)\n",
        "    text=re.sub(r\"it's\",\"it is \",text)\n",
        "    text=re.sub(r\"\\'ve\",\" have \",text)\n",
        "    text=re.sub(r\"i'm\",\"i am \",text)\n",
        "    text=re.sub(r\"\\'re\",\" are \",text)\n",
        "    text=re.sub(r\"n't\",\" not \",text)\n",
        "    text=re.sub(r\"\\'d\",\" would \",text)\n",
        "    text=re.sub(r\"\\'s\",\"s\",text)\n",
        "    text=re.sub(r\"\\'ll\",\" will \",text)\n",
        "    text=re.sub(r\"can't\",\" cannot \",text)\n",
        "    text=re.sub(r\" e g \",\" eg \",text)\n",
        "    text=re.sub(r\"e-mail\",\"email\",text)\n",
        "    text=re.sub(r\"9\\\\/11\",\" 911 \",text)\n",
        "    text=re.sub(r\" u.s\",\" american \",text)\n",
        "    text=re.sub(r\" u.n\",\" united nations \",text)\n",
        "    text=re.sub(r\"\\n\",\" \",text)\n",
        "    text=re.sub(r\":\",\" \",text)\n",
        "    text=re.sub(r\"-\",\" \",text)\n",
        "    text=re.sub(r\"\\_\",\" \",text)\n",
        "    text=re.sub(r\"\\d+\",\" \",text)\n",
        "    text=re.sub(r\"[$#@%&*!~?%{}()]\",\" \",text)\n",
        "\n",
        "    return text"
      ]
    },
    {
      "cell_type": "code",
      "execution_count": 28,
      "metadata": {
        "id": "K7ovvCt495JL"
      },
      "outputs": [],
      "source": [
        "for col in bbc_df.columns:\n",
        "    bbc_df[col] = bbc_df[col].apply(lambda x: cleantext(x))"
      ]
    },
    {
      "cell_type": "code",
      "execution_count": 29,
      "metadata": {
        "colab": {
          "base_uri": "https://localhost:8080/",
          "height": 206
        },
        "id": "HwbxBACO95JP",
        "outputId": "0ea13771-d187-43ea-8f94-ef033bccc1d2"
      },
      "outputs": [
        {
          "data": {
            "application/vnd.google.colaboratory.intrinsic+json": {
              "summary": "{\n  \"name\": \"bbc_df\",\n  \"rows\": 2225,\n  \"fields\": [\n    {\n      \"column\": \"row_article\",\n      \"properties\": {\n        \"dtype\": \"string\",\n        \"num_unique_values\": 2119,\n        \"samples\": [\n          \"enter the games could soon be transplanted from their natural habitat to the more academic atmosphere of the violent titles continuing to top the gaming and learning have not always sat well together but the tide could be beginning to recent research by the london institute of education concluded that games have a valid place in the teach life skills such as decision problem said martin at mr owen said games could also help children make quick assessments of situations and learning by trial and is a organisation looking at ways of using technology for innovative most game firms are too busy turning a profit in the lucrative commercial market to consider developing games for use in schools but games firm lateral visions saw a gap in the games were somewhat and we see anyone else doing what we wanted to said dr carl managing director of lateral the company set out to write something that had all the look and feel of a commercial game but with an educational and learning the result is racing a massively multiplayer car racing which requires not only a thirst for speed but a working knowledge of physics and engineering as is being used by futurelab to test the viability of using gaming in the are keen to find out whether alongside learning a we can also learn something that the rest of the world can understand as being said mr players will have to understand how a car works in order to win races and the knowledge of physics and engineering that they gather along the way will be done in a way that no text book can the game requires users to build and maintain their vehicles and to monitor and analyse performance using data from a variety of before and after teamwork is essential and a chat area allows students to exchange information and work collaboratively and review their own this fusion of chatrooms and gaming is of special interest to futurelab as it is through talking to others that much of the learning can be thinks mr game has been trialled in two secondary schools in bristol and feedback from students has been used the statistics to work out the best way to build their cars and the online message board to share ideas and support each said ben a researcher at futurelab charged with testing the game in real dr gavin thinks the game satisfies both need for learning outcomes and the desire to rise to a in the classroom need to support the it is not about giving children free rein to play game but recognising that games attract attention and offer a he professor angela based at bristol has spent several years researching how games can be incorporated into of games in schools has been patchy she with sim city proving the most traditionally schools have eschewed mainstream games in favour of used software in a belief that such packages help to make learning she found in her is perhaps in a compromise between edutainment and mainstream games that the greatest potential for classroom useable games she wrote in a paper entitled games and versions of existing games could be the way forward and would overcome one of the biggest hurdles persuading developers to write for the educational this would appeal to developers because of the low costs involved in adapting them as well as offering a new opportunity for already there are games on the such as civilisation and age of that have educational elements said mr in grand theft auto it is not just the violence that engages he it could be some time until that particular game makes it into the classroom\",\n          \"in eu tariff chaos trade us has asked the world trade organisation to investigate european union customs which it says are inconsistent and hamper own institutions have noted the uneven way eu customs rules are applied but failed to the us trade office small and us firms were it the eu expanded from to member states in the us said it filed the complaint after talks failed to find a move came in the same week that the us and eu stepped back from confrontation in a tense dispute over aircraft subsidies to european manufacturer airbus and us firm new eu trade commissioner peter mandelson said on tuesday that the two sides had agreed to reopen talks in the aircraft subsidies which led to wto filings in last why it has asked the wto to set up a dispute settlement panel on customs the us trade office said that it wants to tackle the issue in the process of dealing with the problems of ten mostly in eastern joined the eu in the us said its trade with the eu member countries was worth in the eu is a customs there is no single eu customs a statement issued on behalf of robert us trade lack of coupled with lack of procedures for prompt review can hinder us especially for small to an eu spokesman in washington dismissed the us think the us case is very they come up with any evidence that us companies are being said anthony it could take several months for the dispute settlement panel to report its\",\n          \"creator wins creator stan lee is to get a dollar windfall after winning a court battle with comic book company judge has upheld demand for of profits from the hugely successful and its sequel made at box offices of the cut now due to who created in his lawyer could be tens of millions of no us district court judge robert w sweet ruled lee should get a tenth of profits generated since november by marvel tv and movie productions involving the lee took legal action in saying marvel shut him out of profits from the first blockbuster said the company where he worked for more than years had gone back on agreement to give him the as well as lee the incredible daredevil and fantastic four he am gratified by the decision since i am deeply fond of marvel and the people i sincerely regret that the situation had to come to the ruling also means he is entitled to a slice of profits from dvd sales and certain marvel said it would appeal and did not expect the decision to impact on financial forecasts for and the new york court did not rule on claims to a share of profits from some and hulk movie which will be decided at a future marvel\"\n        ],\n        \"semantic_type\": \"\",\n        \"description\": \"\"\n      }\n    },\n    {\n      \"column\": \"summary\",\n      \"properties\": {\n        \"dtype\": \"string\",\n        \"num_unique_values\": 2079,\n        \"samples\": [\n          \"had recently undergone heart surgery and dutch football federation spokesman frank huizinga was one of the best coaches we had in dutch team was built around johan cruyff and johan neeskens and introduced the concept of to the dutch coach rinus the man credited with developing has died aged sports minister clemence dorp was the man together with made dutch football to in the netherlands as michels led the dutch at the world cup when they reached the final only to lose to\",\n          \"first visual radio service in the uk will begin in a few months time with virgin who are positive about the impact it could have on their handset giant nokia has been working on a technology called visual which takes an existing fm signal from a radio station and enables that station to add enhancements such as information and problem is that the name visual radio leads people to think of television but reidar a senior project manager at was adamant that visual radio should not be confused with the more traditional visual radio is not really but rather an evolution where we are providing tools with which people can participate in radio much more easily than ever visual channel is run from a computer within the radio and sends out different kinds of information to the handset depending on what you are listening you have a visual radio enabled when you hear an artist you or a competition or vote that like to participate you pull out your handset and with one click you turn on a visual channel parallel to the broadcast just been listening the visual radio content is transmitted by existing gprs technology you would need to have that service enabled by your well as details on the track or artist of a particular there is also the ability to interact immediately with the radio station in a similar way to digital manager steve taylor can interact with the radio station in a new visual radio functionality will be limited to two nokia handsets due out soon the and but if it is very likely that other manufacturers will want to join\",\n          \"said it was historic that the awards ceremony would name a documentary its best documentary fahrenheit has won best film at the us choice voted for by the us the passion of the christ won best despite both films being snubbed so far at us film awards in the to depp was favourite male movie star and renee zellweger was favourite leading lady at awards in television desperate housewives was named top new drama and starring former friends actor matt was best new film was highly critical of president george w bush and the invasion of and moore was an outspoken bush critic in the presidential campaign inwhich democratic challenger john kerry\"\n        ],\n        \"semantic_type\": \"\",\n        \"description\": \"\"\n      }\n    }\n  ]\n}",
              "type": "dataframe",
              "variable_name": "bbc_df"
            },
            "text/html": [
              "\n",
              "  <div id=\"df-16bb9819-1caa-4565-8074-55c45890ac97\" class=\"colab-df-container\">\n",
              "    <div>\n",
              "<style scoped>\n",
              "    .dataframe tbody tr th:only-of-type {\n",
              "        vertical-align: middle;\n",
              "    }\n",
              "\n",
              "    .dataframe tbody tr th {\n",
              "        vertical-align: top;\n",
              "    }\n",
              "\n",
              "    .dataframe thead th {\n",
              "        text-align: right;\n",
              "    }\n",
              "</style>\n",
              "<table border=\"1\" class=\"dataframe\">\n",
              "  <thead>\n",
              "    <tr style=\"text-align: right;\">\n",
              "      <th></th>\n",
              "      <th>row_article</th>\n",
              "      <th>summary</th>\n",
              "    </tr>\n",
              "  </thead>\n",
              "  <tbody>\n",
              "    <tr>\n",
              "      <th>0</th>\n",
              "      <td>face fuel price government has confirmed it is...</td>\n",
              "      <td>government has confirmed it is considering rai...</td>\n",
              "    </tr>\n",
              "    <tr>\n",
              "      <th>1</th>\n",
              "      <td>fuel prices hit airways has blamed high fuel p...</td>\n",
              "      <td>chief said the results were in a third quarter...</td>\n",
              "    </tr>\n",
              "    <tr>\n",
              "      <th>2</th>\n",
              "      <td>calls for fair trade which attends the meeting...</td>\n",
              "      <td>a conference on developing enterprise hosted b...</td>\n",
              "    </tr>\n",
              "    <tr>\n",
              "      <th>3</th>\n",
              "      <td>rejects tobacco us government claim accusing t...</td>\n",
              "      <td>us government claim accusing the biggest tobac...</td>\n",
              "    </tr>\n",
              "    <tr>\n",
              "      <th>4</th>\n",
              "      <td>takeover talk lifts in uk drinks and food firm...</td>\n",
              "      <td>has reduced the debt it took on to fund the se...</td>\n",
              "    </tr>\n",
              "  </tbody>\n",
              "</table>\n",
              "</div>\n",
              "    <div class=\"colab-df-buttons\">\n",
              "\n",
              "  <div class=\"colab-df-container\">\n",
              "    <button class=\"colab-df-convert\" onclick=\"convertToInteractive('df-16bb9819-1caa-4565-8074-55c45890ac97')\"\n",
              "            title=\"Convert this dataframe to an interactive table.\"\n",
              "            style=\"display:none;\">\n",
              "\n",
              "  <svg xmlns=\"http://www.w3.org/2000/svg\" height=\"24px\" viewBox=\"0 -960 960 960\">\n",
              "    <path d=\"M120-120v-720h720v720H120Zm60-500h600v-160H180v160Zm220 220h160v-160H400v160Zm0 220h160v-160H400v160ZM180-400h160v-160H180v160Zm440 0h160v-160H620v160ZM180-180h160v-160H180v160Zm440 0h160v-160H620v160Z\"/>\n",
              "  </svg>\n",
              "    </button>\n",
              "\n",
              "  <style>\n",
              "    .colab-df-container {\n",
              "      display:flex;\n",
              "      gap: 12px;\n",
              "    }\n",
              "\n",
              "    .colab-df-convert {\n",
              "      background-color: #E8F0FE;\n",
              "      border: none;\n",
              "      border-radius: 50%;\n",
              "      cursor: pointer;\n",
              "      display: none;\n",
              "      fill: #1967D2;\n",
              "      height: 32px;\n",
              "      padding: 0 0 0 0;\n",
              "      width: 32px;\n",
              "    }\n",
              "\n",
              "    .colab-df-convert:hover {\n",
              "      background-color: #E2EBFA;\n",
              "      box-shadow: 0px 1px 2px rgba(60, 64, 67, 0.3), 0px 1px 3px 1px rgba(60, 64, 67, 0.15);\n",
              "      fill: #174EA6;\n",
              "    }\n",
              "\n",
              "    .colab-df-buttons div {\n",
              "      margin-bottom: 4px;\n",
              "    }\n",
              "\n",
              "    [theme=dark] .colab-df-convert {\n",
              "      background-color: #3B4455;\n",
              "      fill: #D2E3FC;\n",
              "    }\n",
              "\n",
              "    [theme=dark] .colab-df-convert:hover {\n",
              "      background-color: #434B5C;\n",
              "      box-shadow: 0px 1px 3px 1px rgba(0, 0, 0, 0.15);\n",
              "      filter: drop-shadow(0px 1px 2px rgba(0, 0, 0, 0.3));\n",
              "      fill: #FFFFFF;\n",
              "    }\n",
              "  </style>\n",
              "\n",
              "    <script>\n",
              "      const buttonEl =\n",
              "        document.querySelector('#df-16bb9819-1caa-4565-8074-55c45890ac97 button.colab-df-convert');\n",
              "      buttonEl.style.display =\n",
              "        google.colab.kernel.accessAllowed ? 'block' : 'none';\n",
              "\n",
              "      async function convertToInteractive(key) {\n",
              "        const element = document.querySelector('#df-16bb9819-1caa-4565-8074-55c45890ac97');\n",
              "        const dataTable =\n",
              "          await google.colab.kernel.invokeFunction('convertToInteractive',\n",
              "                                                    [key], {});\n",
              "        if (!dataTable) return;\n",
              "\n",
              "        const docLinkHtml = 'Like what you see? Visit the ' +\n",
              "          '<a target=\"_blank\" href=https://colab.research.google.com/notebooks/data_table.ipynb>data table notebook</a>'\n",
              "          + ' to learn more about interactive tables.';\n",
              "        element.innerHTML = '';\n",
              "        dataTable['output_type'] = 'display_data';\n",
              "        await google.colab.output.renderOutput(dataTable, element);\n",
              "        const docLink = document.createElement('div');\n",
              "        docLink.innerHTML = docLinkHtml;\n",
              "        element.appendChild(docLink);\n",
              "      }\n",
              "    </script>\n",
              "  </div>\n",
              "\n",
              "\n",
              "<div id=\"df-fcdfd219-bfdc-4da4-9183-f63edb0b2957\">\n",
              "  <button class=\"colab-df-quickchart\" onclick=\"quickchart('df-fcdfd219-bfdc-4da4-9183-f63edb0b2957')\"\n",
              "            title=\"Suggest charts\"\n",
              "            style=\"display:none;\">\n",
              "\n",
              "<svg xmlns=\"http://www.w3.org/2000/svg\" height=\"24px\"viewBox=\"0 0 24 24\"\n",
              "     width=\"24px\">\n",
              "    <g>\n",
              "        <path d=\"M19 3H5c-1.1 0-2 .9-2 2v14c0 1.1.9 2 2 2h14c1.1 0 2-.9 2-2V5c0-1.1-.9-2-2-2zM9 17H7v-7h2v7zm4 0h-2V7h2v10zm4 0h-2v-4h2v4z\"/>\n",
              "    </g>\n",
              "</svg>\n",
              "  </button>\n",
              "\n",
              "<style>\n",
              "  .colab-df-quickchart {\n",
              "      --bg-color: #E8F0FE;\n",
              "      --fill-color: #1967D2;\n",
              "      --hover-bg-color: #E2EBFA;\n",
              "      --hover-fill-color: #174EA6;\n",
              "      --disabled-fill-color: #AAA;\n",
              "      --disabled-bg-color: #DDD;\n",
              "  }\n",
              "\n",
              "  [theme=dark] .colab-df-quickchart {\n",
              "      --bg-color: #3B4455;\n",
              "      --fill-color: #D2E3FC;\n",
              "      --hover-bg-color: #434B5C;\n",
              "      --hover-fill-color: #FFFFFF;\n",
              "      --disabled-bg-color: #3B4455;\n",
              "      --disabled-fill-color: #666;\n",
              "  }\n",
              "\n",
              "  .colab-df-quickchart {\n",
              "    background-color: var(--bg-color);\n",
              "    border: none;\n",
              "    border-radius: 50%;\n",
              "    cursor: pointer;\n",
              "    display: none;\n",
              "    fill: var(--fill-color);\n",
              "    height: 32px;\n",
              "    padding: 0;\n",
              "    width: 32px;\n",
              "  }\n",
              "\n",
              "  .colab-df-quickchart:hover {\n",
              "    background-color: var(--hover-bg-color);\n",
              "    box-shadow: 0 1px 2px rgba(60, 64, 67, 0.3), 0 1px 3px 1px rgba(60, 64, 67, 0.15);\n",
              "    fill: var(--button-hover-fill-color);\n",
              "  }\n",
              "\n",
              "  .colab-df-quickchart-complete:disabled,\n",
              "  .colab-df-quickchart-complete:disabled:hover {\n",
              "    background-color: var(--disabled-bg-color);\n",
              "    fill: var(--disabled-fill-color);\n",
              "    box-shadow: none;\n",
              "  }\n",
              "\n",
              "  .colab-df-spinner {\n",
              "    border: 2px solid var(--fill-color);\n",
              "    border-color: transparent;\n",
              "    border-bottom-color: var(--fill-color);\n",
              "    animation:\n",
              "      spin 1s steps(1) infinite;\n",
              "  }\n",
              "\n",
              "  @keyframes spin {\n",
              "    0% {\n",
              "      border-color: transparent;\n",
              "      border-bottom-color: var(--fill-color);\n",
              "      border-left-color: var(--fill-color);\n",
              "    }\n",
              "    20% {\n",
              "      border-color: transparent;\n",
              "      border-left-color: var(--fill-color);\n",
              "      border-top-color: var(--fill-color);\n",
              "    }\n",
              "    30% {\n",
              "      border-color: transparent;\n",
              "      border-left-color: var(--fill-color);\n",
              "      border-top-color: var(--fill-color);\n",
              "      border-right-color: var(--fill-color);\n",
              "    }\n",
              "    40% {\n",
              "      border-color: transparent;\n",
              "      border-right-color: var(--fill-color);\n",
              "      border-top-color: var(--fill-color);\n",
              "    }\n",
              "    60% {\n",
              "      border-color: transparent;\n",
              "      border-right-color: var(--fill-color);\n",
              "    }\n",
              "    80% {\n",
              "      border-color: transparent;\n",
              "      border-right-color: var(--fill-color);\n",
              "      border-bottom-color: var(--fill-color);\n",
              "    }\n",
              "    90% {\n",
              "      border-color: transparent;\n",
              "      border-bottom-color: var(--fill-color);\n",
              "    }\n",
              "  }\n",
              "</style>\n",
              "\n",
              "  <script>\n",
              "    async function quickchart(key) {\n",
              "      const quickchartButtonEl =\n",
              "        document.querySelector('#' + key + ' button');\n",
              "      quickchartButtonEl.disabled = true;  // To prevent multiple clicks.\n",
              "      quickchartButtonEl.classList.add('colab-df-spinner');\n",
              "      try {\n",
              "        const charts = await google.colab.kernel.invokeFunction(\n",
              "            'suggestCharts', [key], {});\n",
              "      } catch (error) {\n",
              "        console.error('Error during call to suggestCharts:', error);\n",
              "      }\n",
              "      quickchartButtonEl.classList.remove('colab-df-spinner');\n",
              "      quickchartButtonEl.classList.add('colab-df-quickchart-complete');\n",
              "    }\n",
              "    (() => {\n",
              "      let quickchartButtonEl =\n",
              "        document.querySelector('#df-fcdfd219-bfdc-4da4-9183-f63edb0b2957 button');\n",
              "      quickchartButtonEl.style.display =\n",
              "        google.colab.kernel.accessAllowed ? 'block' : 'none';\n",
              "    })();\n",
              "  </script>\n",
              "</div>\n",
              "\n",
              "    </div>\n",
              "  </div>\n"
            ],
            "text/plain": [
              "                                         row_article  \\\n",
              "0  face fuel price government has confirmed it is...   \n",
              "1  fuel prices hit airways has blamed high fuel p...   \n",
              "2  calls for fair trade which attends the meeting...   \n",
              "3  rejects tobacco us government claim accusing t...   \n",
              "4  takeover talk lifts in uk drinks and food firm...   \n",
              "\n",
              "                                             summary  \n",
              "0  government has confirmed it is considering rai...  \n",
              "1  chief said the results were in a third quarter...  \n",
              "2  a conference on developing enterprise hosted b...  \n",
              "3  us government claim accusing the biggest tobac...  \n",
              "4  has reduced the debt it took on to fund the se...  "
            ]
          },
          "execution_count": 29,
          "metadata": {},
          "output_type": "execute_result"
        }
      ],
      "source": [
        "bbc_df.head()"
      ]
    },
    {
      "cell_type": "code",
      "execution_count": 30,
      "metadata": {
        "colab": {
          "base_uri": "https://localhost:8080/",
          "height": 206
        },
        "id": "JBPbkd8pIORs",
        "outputId": "0aeb7b78-480c-4e20-d0cd-d52fdc1d4600"
      },
      "outputs": [
        {
          "data": {
            "application/vnd.google.colaboratory.intrinsic+json": {
              "summary": "{\n  \"name\": \"df\",\n  \"rows\": 401,\n  \"fields\": [\n    {\n      \"column\": \"row_article\",\n      \"properties\": {\n        \"dtype\": \"string\",\n        \"num_unique_values\": 347,\n        \"samples\": [\n          \"b'More women turn to net security\\\\n\\\\nOlder people and women are increasingly taking charge of protecting home computers against malicious net attacks, according to a two-year study.\\\\n\\\\nThe number of women buying programs to protect PCs from virus, spam and spyware attacks rose by 11.2% each year between 2002 and 2004. The study, for net security firm Preventon, shows that security messages are reaching a diversity of surfers. It is thought that 40% of those buying home net security programs are retired. For the last three years, that has gone up by an average of 13.2%. But more retired women (53%) were buying security software than retired men. The research reflects the changing stereotype and demographics of web users, as well as growing awareness of the greater risks that high-speed broadband net connections can pose to surfers.\\\\n\\\\nThe study predicts that 40% of all home PC net security buyers will be women in 2005. They could even overtake men as the main buyers by 2007, if current rates persist, according to the research. \\\"I think older people have become more vigilant about protecting their PCs as we tend to be more cautious and want an insurance policy in case something does go wrong\\\", said one over-60 woman who took part in the research.\\\\n\\\\n\\\"You started off with young male stereotype computer users for last 10 years,\\\" Paul Goosens, head of Preventon told the BBC News website. \\\"Now we are seeing real people - both sexes and very often it is women who have more access at home.\\\" But net service providers still need to take more responsibility in making sure people are educated about net threats before they go online, particuarly if they are new to broadband, he said.\\\\n\\\\nPrograms also need to be tailored so that they can be installed by dial-up users with a slower connection too, said Mr Goosens. Security software should be easy to use, with simple interfaces and instructions written in non-technical language, he added. The nature of the security threats are also becoming more than just about e-mail viruses. High-profile complaints about rogue diallers, and spyware or other programs that surreptitiously install themselves on computers, have also raised awareness about the need to have a combination of anti-virus, firewall and spyware-removal programs too. Without protection, these kinds of programs can be picked up just through surfing the web normally.\\\\n\\\\nMore than 30,000 PCs a day globally are being recruited into networks that spread spam and viruses, a study from security from Symantec showed last year. Viruses written to make headlines by infecting millions are also getting rarer, according to net security experts. Programs are being unleashed to directly profit criminal gangs, many based in Eastern Europe, over those which are designed to show off technical skills or cause nuisance. The research shows that more people are taking these criminal net threats more seriously because, said Mr Goosens, they are reported in the press much more. \\\"You are seeing older users being educated by the media and are seeing them picking up on this threat. They are asking the right questions,\\\" he explained. \\\"It is more likely the younger users who naively assume that because they are using a reputable service provider, that they are safe to connect to the net.\\\" An unprotected computer on a broadband connection can be breached and infected with viruses or spyware within minutes. By the end of the year it is thought that more than 30% of UK homes will have broadband net access. In July last year, the number of UK households accessing the net via broadband surpassed those using dial-up for the first time, according to the Office of National Statistics.\\\\n'\",\n          \"b'Podcasts mark rise of DIY radio\\\\n\\\\nAn Apple iPod or other digital music players can hold anything up to 10,000 songs, which is a lot of space to fill.\\\\n\\\\nBut more and more iPod owners are filling that space with audio content created by an unpredictable assortment of producers. It is called \\\"podcasting\\\" and its strongest proponent is former MTV host and VJ (video jockey) Adam Curry. Podcasting takes its name from the Apple iPod, although you do not need an iPod to create one or to listen to a podcast. A podcast is basically an internet-based radio show which podcasters create, usually in the comfort of their own home. They need only a microphone, a PC, and some editing software. They then upload their shows to the internet and others can download and listen to them, all for free. Using technology based on XML computer code and RSS - Really Simple Syndication - listeners can subscribe to podcasts collected automatically in a bit of software, which Mr Curry has pioneered. The latest MP3 files of shows can then be picked up by a music playing device automatically.\\\\n\\\\nMr Curry records, hosts, edits and produce a daily, 40 minute podcast called The Daily Source Code. He wants to make podcasting \\\"the Next Big Thing\\\" and says it is an extension of his childhood love of radio gadgetry. \\\"I was always into technologies and wires,\\\" he explains. \\\"My parents gave me the Radio Shack 101 project kit, which allows you to build an AM transmitter and subsequently an FM transmitter. \\\"I had my mom drive me around the block, see how far it would reach on the car radio.\\\"\\\\n\\\\nMr Curry is American, but he grew up in the Netherlands where he hosted illegal, pirate radio shows in the Dutch capital. He tried university in the US, and ended up back in Holland where he hosted a music video show. He spent the next seven years in New York where he worked at MTV hosting the Top 20 Video Countdown, but spent most of his hours tinkering with this new thing called the internet. \\\"At a certain point in 1995, I was driving in on a Friday afternoon, beautiful blue sky, one of those beautiful days thinking, this is so stupid. \\\"You know, I\\\\'m going do the Top 20 Countdown, take the cheque, go home, and sit on the internet until three in the morning. \\\"So, after I finished the show, I quit. I said, on air, it\\\\'s been great, I\\\\'ve been here for seven years at that point, there\\\\'s something on the internet, I\\\\'ve got to go find it, and I\\\\'ll see you later.\\\"\\\\n\\\\nBut Mr Curry\\\\'s technology and broadcast interests started to gel a couple of years ago when computer storage was growing exponentially and high-speed internet connections were becoming more widely available. The MP3 format also meant that people could create and upload audio more cheaply and efficiently than ever before.\\\\n\\\\nMost importantly, Mr Curry says, people across the globe were bored with the radio they were hearing. \\\"Listen to 99% of the radio that you hear today, it\\\\'s radio voices, and it\\\\'s fake, it\\\\'s just fake.\\\" He wanted to make it easier for people to find \\\"real voices\\\" on the internet. He wanted software that would automatically download new audio content directly onto players like, iPods. Mr Curry is not a computer programmer, so he asked others to create one for him. No one did, so he tried to write one himself. He finished it a few months ago and says it \\\"totally sucked.\\\" He put it up on the net as open source software and now dozens of coders and audio junkies are refining it; the result is a work in progress called \\\"ipodder\\\". Doug Kaye, a California-based podcaster, praises the former MTV VJ for what he has done. \\\"Adam created a simple script that solved what we call the last mile problem. Ipodder takes audio from the web and brings it all the way down to the MP3 player,\\\" he explains. \\\"People can wake up in the morning, pick up their iPods as they go to work or before they go exercise, and discover that there\\\\'s all this new content automatically put onto their players.\\\" It is created an explosion in podcasting content and podcasters are springing up in Australia, Finland, Brazil, even Malaysia. One couple broadcasts theirs, The Dawn and Drew Show, from Wisconsin in the US, sometimes even from the comfort of their own bed. Topics range from the comfort of their bed, to the latest films or music and have thousands of listeners.\\\\n\\\\nAlready, websites are springing up that point listeners in the right direction of good podcasts.\\\\n\\\\nChris McIntyre runs Podcast Alley and says that there are good sites out there but that not everyone has the technological know-how to simply listen. \\\"If I were to tell my mom, or my mother-in-law to copy an XML or RSS file to their podcast aggregator, they would think I was speaking a foreign language,\\\" Mr McIntyre says. Along with technical challenges, there may be legal challenges to podcasters who air their favourite, albeit copyrighted, music. Some in podcasting also worry that too much attention may turn what they see as the \\\"anti-radio\\\" into something that is more like conventional broadcasting. Already there is interest in podcasting from the corporate world. Heineken is doing its own podcast now, and so is Playboy. For his part, Adam Curry\\\\'s pressing ahead with his own vision of what podcasting should be. He loves doing The Daily Source Code because it is about introducing good music and cool ideas to new audiences. He has even been called the Ed Sullivan or Johnny Carson of podcasting which, he says, \\\"is a badge I\\\\'ll wear with great honour. \\\"To be the Johnny Carson, or Ed Sullivan of anything is wonderful. And you know what? You don\\\\'t need a hell of a lot of talent. \\\"You just have to be nice, have your ears open, and let people shine. And that\\\\'s good for me.\\\"\\\\n\\\\nClark Boyd is technology correspondent for The World, a BBC World Service and WGBH-Boston co-production.\\\\n'\",\n          \"b'What\\\\'s next for next-gen consoles?\\\\n\\\\nThe next generation of video games consoles are in development but what will the new machines mean for games firms and consumers? We may not know when they will be released, what they will be called or even what they will be able to do but one thing is certain - they are coming. Sony, Microsoft and Nintendo are all expected to release new machines in the next 18 months. The details of PlayStation 3, Xbox 2 (codename Xenon) and Nintendo\\\\'s so-called Revolution are still to be finalised but developers are having to work on titles for the new machines regardless.\\\\n\\\\n\\\"We know maybe what the PS3 will do, but we can only guess,\\\" said Rory Armes, studio general manager for video game giant Electronic Arts in Europe. \\\"It\\\\'s a horrendous effort in the first year,\\\" he admitted. Microsoft had delivered development kits to EA, said Mr Armes, but he said the company was still waiting on Sony and Nintendo to send kits. Although the details may not be nailed down, Mr Armes said EA was beginning to get a sense of the capabilities of the new machines. \\\"The rumours are that PlayStation 3 will have a little more under the hood [than Xbox 2],\\\" he said.\\\\n\\\\n\\\"Microsoft is obviously a software company first and foremost, while Sony has more experience in hardware. I think Sony will be able to push more into a box at cost.\\\"\\\\n\\\\nWhat is certain is that the new machines will provide great leaps in processing and graphical power. It is also likely that they will contain convergence technologies to make the machines more of an entertainment hub. At the Consumer Electronics Show in Las Vegas Microsoft boss Bill Gates said Xbox 2 would be part of his vision of the digital lifestyle. While short on detail, he painted a picture of a machine that would complement a PC and offer \\\"great video gaming but video gaming for a broader set of people, more communications, more media, more connectivity\\\". Sony is thought to have a similar vision for PS3 while Nintendo remain focused on a machine purely for games.\\\\n\\\\nUntil it is clear precisely what the new machines can do, developers are working on a first round of titles to harness the new horsepower. Gary Dunn, development director at Codemasters, said the company had a central technology group which was at the forefront of preparing for the next generation of consoles. \\\"We are working on new libraries of effects. A lot of the major techniques are already out there and in use in PC gaming, such as pixel shaders and normal mapping.\\\"\\\\n\\\\nMr Dunn said he expected the introduction of real-world physics to be a major part of the new consoles. \\\"We want to increase that level of immersion and realism in gaming to people can lose themselves in a game.\\\" In the first year at least, developers said gamers should not expect games which harness the full potential of the machines. Graphical spit and polish and better physics in line with the capabilities of current high-end graphics cards for PCs should be expected. Simon Gardner, president of Climax\\\\'s Action Studio, said: \\\"It\\\\'s definitely an exciting time. We want to give more freedom to the player. We want to give players an emotional connection to the characters they play. \\\"The environments will be much more believable and dramatic, growing and changing as you play. \\\"There will be a breadth of effects, more involving worlds to play in.\\\\n\\\\n\\\"It\\\\'s a bit like being an artist and being given a bigger canvas and a smaller brush. We\\\\'re being given more tools. \\\"For the average consumer, we can get things of a more filmic quality.\\\" Gerhard Florin, head of EA in Europe, said gamers should expect titles that blur the line between films and video games. Many will be sceptical - gamers were given similar predictions during the last transition of console hardware - but this time it would seem to be more likely. \\\"PS3 will provide graphics indistinguishable from movies,\\\" said Mr Florin. He said the distribution method for games would also change radically in the next round of consoles. \\\"A gamer could buy a starter disc for 10 euros. When he goes home he goes online and he could buy AI and levels as you go.\\\\n\\\\n\\\"It\\\\'s much smarter if you can get levels as you go.\\\" Mr Armes warned that developers still had to learn how to tell stories effectively in the medium. \\\"In some ways we are trying to forget about the hardware, go in the opposite direction. We have been very bad at letting technology design our creativity. \\\"What we have to do as a company is start ignoring the technology and learning our craft in telling stories.\\\" Mr Gardner agreed: \\\"We can thrown more polygons around and have better AI but if it doesn\\\\'t make for a better game then that\\\\'s not very useful.\\\" Developers will certainly have the tools with the new machines, but how they employ them is still to be decided.\\\\n'\"\n        ],\n        \"semantic_type\": \"\",\n        \"description\": \"\"\n      }\n    },\n    {\n      \"column\": \"summary\",\n      \"properties\": {\n        \"dtype\": \"string\",\n        \"num_unique_values\": 330,\n        \"samples\": [\n          \"b'Sony has billed the machine as the Walkman of the 21st Century and has sold more than 800,000 units in Japan.Sony has said it wanted to launch the PSP in Europe at roughly the same time as the US, but gamers will now fear that the launch has been put back.Nintendo has said it will release the DS in Europe from 11 March.It launched its DS handheld in Japan and the US last year and has sold 2.8 million units.'\",\n          \"b\\\"In its statement Valve also said that rumours that it distributed fake Half-Life 2 keys, copies of the game or instructions on how to hack the game, just to catch pirates and cheats were false.Before now, he said, it has been hard for game makers to do anything about piracy once the game was being played.Game maker Valve shut down the online accounts of the players because it had evidence that their copy of the game had been obtained illegally.Experts said the success of the Half-Life 2 anti-piracy system might tempt other game makers into creating their own version.Half-Life 2 was officially released on 16 November but before gamers could get to grips with the long-awaited title they were forced to authenticate their copy of the game online.About 20,000 people have been banned from playing the Half-Life 2 game.Unless game firms were careful, he said, they could face a backlash from consumers who soon get tired of maintaining different accounts for every game they play.Valve also said that a small number of accounts were closed because people were using stolen credit cards to buy copies of the game or were using stolen Steam accounts.If Steam proves effective at cutting the piracy of games to a minimum, said Mr Fahey, other game makers may be tempted to set up copycat systems.Authentication involved setting up an account with Valve's gaming community system called Steam and letting that check which copy of the game was being run.\\\"\",\n          \"b\\\"Even before Nokia's N-Gage game phone launched in late 2003, many mobile operators were realising that there was an audience looking for something to play on their handset.This is because mobile games have come a long way in a very short time.The game lets you play via Bluetooth if others are in range.The number of handsets that can play games has grown hugely too.Some game makers are also starting to take advantage of the extra capabilities in a mobile.The BBC News website takes a look at how games on mobile phones are maturing.A few games also let you take on people in real time via the network or, if you are sitting close to them, via Bluetooth short-range radio technology.What has also helped games on mobiles thrive is the fact that it is easier than ever to get hold of them thanks to technology known as Wap push.But these two features should help point you in the direction of the game makers and give you an idea of where to look and how to get playing.The processing power on handsets means that physics on mobile games is getting more convincing and the graphics are improving too.That audience includes commuters wanting something to fill their time on the way home, game fans looking for a bit of variety and hard core gamers who like to play every moment they can.By sending a text message to a game maker you can have the title downloaded to your handset.Almost half of all phones now have Java onboard meaning that they can play the increasingly sophisticated games that are available - even the ones that use 3D graphics.Rarely now does an action movie launch without a mobile game tie-in.The minimum technology specifications that phones should adhere to are getting more sophisticated which means that games are too.The game rewards replay because to advance you have to complete every section within a time limit.There are shoot-em-ups, adventure games, strategy titles and many novel games only found on handsets.The returns can be pretty good when you consider that some games cost \\\\xc2\\\\xa35.\\\"\"\n        ],\n        \"semantic_type\": \"\",\n        \"description\": \"\"\n      }\n    }\n  ]\n}",
              "type": "dataframe",
              "variable_name": "df"
            },
            "text/html": [
              "\n",
              "  <div id=\"df-1c886a1a-4dad-4240-8733-5c9abf05d3e9\" class=\"colab-df-container\">\n",
              "    <div>\n",
              "<style scoped>\n",
              "    .dataframe tbody tr th:only-of-type {\n",
              "        vertical-align: middle;\n",
              "    }\n",
              "\n",
              "    .dataframe tbody tr th {\n",
              "        vertical-align: top;\n",
              "    }\n",
              "\n",
              "    .dataframe thead th {\n",
              "        text-align: right;\n",
              "    }\n",
              "</style>\n",
              "<table border=\"1\" class=\"dataframe\">\n",
              "  <thead>\n",
              "    <tr style=\"text-align: right;\">\n",
              "      <th></th>\n",
              "      <th>row_article</th>\n",
              "      <th>summary</th>\n",
              "    </tr>\n",
              "  </thead>\n",
              "  <tbody>\n",
              "    <tr>\n",
              "      <th>003</th>\n",
              "      <td>b\"Microsoft seeking spyware trojan\\n\\nMicrosof...</td>\n",
              "      <td>b\"Microsoft is investigating a trojan program ...</td>\n",
              "    </tr>\n",
              "    <tr>\n",
              "      <th>004</th>\n",
              "      <td>b'Digital guru floats sub-$100 PC\\n\\nNicholas ...</td>\n",
              "      <td>b'He said one laptop per child could be \" very...</td>\n",
              "    </tr>\n",
              "    <tr>\n",
              "      <th>006</th>\n",
              "      <td>b'Wi-fi web reaches farmers in Peru\\n\\nA netwo...</td>\n",
              "      <td>b'The Agricultural Information Project for Far...</td>\n",
              "    </tr>\n",
              "    <tr>\n",
              "      <th>002</th>\n",
              "      <td>b'China net cafe culture crackdown\\n\\nChinese ...</td>\n",
              "      <td>b\"Laws on net cafe opening hours and who can u...</td>\n",
              "    </tr>\n",
              "    <tr>\n",
              "      <th>005</th>\n",
              "      <td>b'Technology gets the creative bug\\n\\nThe hi-t...</td>\n",
              "      <td>b'\"We are hoping to understand the creative in...</td>\n",
              "    </tr>\n",
              "  </tbody>\n",
              "</table>\n",
              "</div>\n",
              "    <div class=\"colab-df-buttons\">\n",
              "\n",
              "  <div class=\"colab-df-container\">\n",
              "    <button class=\"colab-df-convert\" onclick=\"convertToInteractive('df-1c886a1a-4dad-4240-8733-5c9abf05d3e9')\"\n",
              "            title=\"Convert this dataframe to an interactive table.\"\n",
              "            style=\"display:none;\">\n",
              "\n",
              "  <svg xmlns=\"http://www.w3.org/2000/svg\" height=\"24px\" viewBox=\"0 -960 960 960\">\n",
              "    <path d=\"M120-120v-720h720v720H120Zm60-500h600v-160H180v160Zm220 220h160v-160H400v160Zm0 220h160v-160H400v160ZM180-400h160v-160H180v160Zm440 0h160v-160H620v160ZM180-180h160v-160H180v160Zm440 0h160v-160H620v160Z\"/>\n",
              "  </svg>\n",
              "    </button>\n",
              "\n",
              "  <style>\n",
              "    .colab-df-container {\n",
              "      display:flex;\n",
              "      gap: 12px;\n",
              "    }\n",
              "\n",
              "    .colab-df-convert {\n",
              "      background-color: #E8F0FE;\n",
              "      border: none;\n",
              "      border-radius: 50%;\n",
              "      cursor: pointer;\n",
              "      display: none;\n",
              "      fill: #1967D2;\n",
              "      height: 32px;\n",
              "      padding: 0 0 0 0;\n",
              "      width: 32px;\n",
              "    }\n",
              "\n",
              "    .colab-df-convert:hover {\n",
              "      background-color: #E2EBFA;\n",
              "      box-shadow: 0px 1px 2px rgba(60, 64, 67, 0.3), 0px 1px 3px 1px rgba(60, 64, 67, 0.15);\n",
              "      fill: #174EA6;\n",
              "    }\n",
              "\n",
              "    .colab-df-buttons div {\n",
              "      margin-bottom: 4px;\n",
              "    }\n",
              "\n",
              "    [theme=dark] .colab-df-convert {\n",
              "      background-color: #3B4455;\n",
              "      fill: #D2E3FC;\n",
              "    }\n",
              "\n",
              "    [theme=dark] .colab-df-convert:hover {\n",
              "      background-color: #434B5C;\n",
              "      box-shadow: 0px 1px 3px 1px rgba(0, 0, 0, 0.15);\n",
              "      filter: drop-shadow(0px 1px 2px rgba(0, 0, 0, 0.3));\n",
              "      fill: #FFFFFF;\n",
              "    }\n",
              "  </style>\n",
              "\n",
              "    <script>\n",
              "      const buttonEl =\n",
              "        document.querySelector('#df-1c886a1a-4dad-4240-8733-5c9abf05d3e9 button.colab-df-convert');\n",
              "      buttonEl.style.display =\n",
              "        google.colab.kernel.accessAllowed ? 'block' : 'none';\n",
              "\n",
              "      async function convertToInteractive(key) {\n",
              "        const element = document.querySelector('#df-1c886a1a-4dad-4240-8733-5c9abf05d3e9');\n",
              "        const dataTable =\n",
              "          await google.colab.kernel.invokeFunction('convertToInteractive',\n",
              "                                                    [key], {});\n",
              "        if (!dataTable) return;\n",
              "\n",
              "        const docLinkHtml = 'Like what you see? Visit the ' +\n",
              "          '<a target=\"_blank\" href=https://colab.research.google.com/notebooks/data_table.ipynb>data table notebook</a>'\n",
              "          + ' to learn more about interactive tables.';\n",
              "        element.innerHTML = '';\n",
              "        dataTable['output_type'] = 'display_data';\n",
              "        await google.colab.output.renderOutput(dataTable, element);\n",
              "        const docLink = document.createElement('div');\n",
              "        docLink.innerHTML = docLinkHtml;\n",
              "        element.appendChild(docLink);\n",
              "      }\n",
              "    </script>\n",
              "  </div>\n",
              "\n",
              "\n",
              "<div id=\"df-bfc40fdf-4a8f-4293-897c-f916a7b2bc55\">\n",
              "  <button class=\"colab-df-quickchart\" onclick=\"quickchart('df-bfc40fdf-4a8f-4293-897c-f916a7b2bc55')\"\n",
              "            title=\"Suggest charts\"\n",
              "            style=\"display:none;\">\n",
              "\n",
              "<svg xmlns=\"http://www.w3.org/2000/svg\" height=\"24px\"viewBox=\"0 0 24 24\"\n",
              "     width=\"24px\">\n",
              "    <g>\n",
              "        <path d=\"M19 3H5c-1.1 0-2 .9-2 2v14c0 1.1.9 2 2 2h14c1.1 0 2-.9 2-2V5c0-1.1-.9-2-2-2zM9 17H7v-7h2v7zm4 0h-2V7h2v10zm4 0h-2v-4h2v4z\"/>\n",
              "    </g>\n",
              "</svg>\n",
              "  </button>\n",
              "\n",
              "<style>\n",
              "  .colab-df-quickchart {\n",
              "      --bg-color: #E8F0FE;\n",
              "      --fill-color: #1967D2;\n",
              "      --hover-bg-color: #E2EBFA;\n",
              "      --hover-fill-color: #174EA6;\n",
              "      --disabled-fill-color: #AAA;\n",
              "      --disabled-bg-color: #DDD;\n",
              "  }\n",
              "\n",
              "  [theme=dark] .colab-df-quickchart {\n",
              "      --bg-color: #3B4455;\n",
              "      --fill-color: #D2E3FC;\n",
              "      --hover-bg-color: #434B5C;\n",
              "      --hover-fill-color: #FFFFFF;\n",
              "      --disabled-bg-color: #3B4455;\n",
              "      --disabled-fill-color: #666;\n",
              "  }\n",
              "\n",
              "  .colab-df-quickchart {\n",
              "    background-color: var(--bg-color);\n",
              "    border: none;\n",
              "    border-radius: 50%;\n",
              "    cursor: pointer;\n",
              "    display: none;\n",
              "    fill: var(--fill-color);\n",
              "    height: 32px;\n",
              "    padding: 0;\n",
              "    width: 32px;\n",
              "  }\n",
              "\n",
              "  .colab-df-quickchart:hover {\n",
              "    background-color: var(--hover-bg-color);\n",
              "    box-shadow: 0 1px 2px rgba(60, 64, 67, 0.3), 0 1px 3px 1px rgba(60, 64, 67, 0.15);\n",
              "    fill: var(--button-hover-fill-color);\n",
              "  }\n",
              "\n",
              "  .colab-df-quickchart-complete:disabled,\n",
              "  .colab-df-quickchart-complete:disabled:hover {\n",
              "    background-color: var(--disabled-bg-color);\n",
              "    fill: var(--disabled-fill-color);\n",
              "    box-shadow: none;\n",
              "  }\n",
              "\n",
              "  .colab-df-spinner {\n",
              "    border: 2px solid var(--fill-color);\n",
              "    border-color: transparent;\n",
              "    border-bottom-color: var(--fill-color);\n",
              "    animation:\n",
              "      spin 1s steps(1) infinite;\n",
              "  }\n",
              "\n",
              "  @keyframes spin {\n",
              "    0% {\n",
              "      border-color: transparent;\n",
              "      border-bottom-color: var(--fill-color);\n",
              "      border-left-color: var(--fill-color);\n",
              "    }\n",
              "    20% {\n",
              "      border-color: transparent;\n",
              "      border-left-color: var(--fill-color);\n",
              "      border-top-color: var(--fill-color);\n",
              "    }\n",
              "    30% {\n",
              "      border-color: transparent;\n",
              "      border-left-color: var(--fill-color);\n",
              "      border-top-color: var(--fill-color);\n",
              "      border-right-color: var(--fill-color);\n",
              "    }\n",
              "    40% {\n",
              "      border-color: transparent;\n",
              "      border-right-color: var(--fill-color);\n",
              "      border-top-color: var(--fill-color);\n",
              "    }\n",
              "    60% {\n",
              "      border-color: transparent;\n",
              "      border-right-color: var(--fill-color);\n",
              "    }\n",
              "    80% {\n",
              "      border-color: transparent;\n",
              "      border-right-color: var(--fill-color);\n",
              "      border-bottom-color: var(--fill-color);\n",
              "    }\n",
              "    90% {\n",
              "      border-color: transparent;\n",
              "      border-bottom-color: var(--fill-color);\n",
              "    }\n",
              "  }\n",
              "</style>\n",
              "\n",
              "  <script>\n",
              "    async function quickchart(key) {\n",
              "      const quickchartButtonEl =\n",
              "        document.querySelector('#' + key + ' button');\n",
              "      quickchartButtonEl.disabled = true;  // To prevent multiple clicks.\n",
              "      quickchartButtonEl.classList.add('colab-df-spinner');\n",
              "      try {\n",
              "        const charts = await google.colab.kernel.invokeFunction(\n",
              "            'suggestCharts', [key], {});\n",
              "      } catch (error) {\n",
              "        console.error('Error during call to suggestCharts:', error);\n",
              "      }\n",
              "      quickchartButtonEl.classList.remove('colab-df-spinner');\n",
              "      quickchartButtonEl.classList.add('colab-df-quickchart-complete');\n",
              "    }\n",
              "    (() => {\n",
              "      let quickchartButtonEl =\n",
              "        document.querySelector('#df-bfc40fdf-4a8f-4293-897c-f916a7b2bc55 button');\n",
              "      quickchartButtonEl.style.display =\n",
              "        google.colab.kernel.accessAllowed ? 'block' : 'none';\n",
              "    })();\n",
              "  </script>\n",
              "</div>\n",
              "\n",
              "    </div>\n",
              "  </div>\n"
            ],
            "text/plain": [
              "                                           row_article  \\\n",
              "003  b\"Microsoft seeking spyware trojan\\n\\nMicrosof...   \n",
              "004  b'Digital guru floats sub-$100 PC\\n\\nNicholas ...   \n",
              "006  b'Wi-fi web reaches farmers in Peru\\n\\nA netwo...   \n",
              "002  b'China net cafe culture crackdown\\n\\nChinese ...   \n",
              "005  b'Technology gets the creative bug\\n\\nThe hi-t...   \n",
              "\n",
              "                                               summary  \n",
              "003  b\"Microsoft is investigating a trojan program ...  \n",
              "004  b'He said one laptop per child could be \" very...  \n",
              "006  b'The Agricultural Information Project for Far...  \n",
              "002  b\"Laws on net cafe opening hours and who can u...  \n",
              "005  b'\"We are hoping to understand the creative in...  "
            ]
          },
          "execution_count": 30,
          "metadata": {},
          "output_type": "execute_result"
        }
      ],
      "source": [
        "df.head()"
      ]
    },
    {
      "cell_type": "code",
      "execution_count": 31,
      "metadata": {
        "colab": {
          "base_uri": "https://localhost:8080/"
        },
        "id": "YA9tvTPUIciB",
        "outputId": "9433d647-422b-470a-ea74-7a2a83bb34e9"
      },
      "outputs": [
        {
          "data": {
            "text/plain": [
              "2969"
            ]
          },
          "execution_count": 31,
          "metadata": {},
          "output_type": "execute_result"
        }
      ],
      "source": [
        "len_list =[]\n",
        "for article in df.row_article:\n",
        "    words = article.split()\n",
        "    length = len(words)\n",
        "    len_list.append(length)\n",
        "max(len_list)"
      ]
    },
    {
      "cell_type": "markdown",
      "metadata": {
        "id": "OuLtAPJv0GLs"
      },
      "source": [
        "### 2-2. Tokenizer\n",
        "1. Tokenize and One-Hot : Tokenizer\n",
        "2. Vocabraly: article and summary 15000 words\n",
        "3. Padding: pad_sequences 1000 max_len\n",
        "4. Reshape: manual max_len * one-hot matrix"
      ]
    },
    {
      "cell_type": "code",
      "execution_count": 33,
      "metadata": {
        "id": "kqICyIF6cy3Q"
      },
      "outputs": [],
      "source": [
        "import numpy as np\n",
        "import os\n",
        "import pandas as pd\n",
        "import re"
      ]
    },
    {
      "cell_type": "code",
      "execution_count": 35,
      "metadata": {
        "colab": {
          "base_uri": "https://localhost:8080/",
          "height": 206
        },
        "id": "VYIgeJ-dcy3Q",
        "outputId": "27b25aa9-135b-4233-871f-32f3e2d4d74a"
      },
      "outputs": [
        {
          "data": {
            "application/vnd.google.colaboratory.intrinsic+json": {
              "summary": "{\n  \"name\": \"bbc_art_sum\",\n  \"rows\": 2225,\n  \"fields\": [\n    {\n      \"column\": \"row_article\",\n      \"properties\": {\n        \"dtype\": \"string\",\n        \"num_unique_values\": 2119,\n        \"samples\": [\n          \"campaign hits studio efforts to stop pirated films being shared on networks have claimed a campaign of legal action is thought to be behind the closure of the widely used the site was the most popular place for people swapping and sharing links for the bittorrent a recent study showed that more than half of the traffic during june was for the bittorrent a message posted on on the controllers said the site was down for good in the way that we all know if the site did the message it would not be hosting any more torrent it are very sorry for but there was no other we have tried the only parts that would keep said the operators of the suprnova were the discussion forums and net chat the site is thought to have closed following an announcement by the motion picture association of america that it was launching legal action against those operating bittorrent servers rather than end because of the way that bittorrent server sites do not host the actual file being instead they host a link that points people to others that have by targeting the mpaa hopes to cripple ability to share in the opening days of the mpaa the organisation filed lawsuits against operators of bittorrent server the launching of the legal seems to be having an phoenix another popular bittorrent has also decided to shut down though it gave no reasons for the it is thought to be motivated by the threat of legal last week finnish police raided a bittorrent site based in the country according to let users shared pirated music and\",\n          \"for balkan oil bulgaria and macedonia has given the go ahead for the construction of a oil pipeline that will pass through the balkan project aims to allow alternative ports for the shipping of russian and caspian that normally goes through turkish it aims to transport daily barrels of the pipeline will be built by the albanian macedonian bulgarian oil corporation the pipeline will run from the bulgarian port of over the black sea to the albanian city of vlore on the adriatic crossing project was conceived in but it was delayed because of the lack of political by signing the agreement on the prime ministers of albania and macedonia have overcome the is one of the most important infrastructure projects for and integration for the western said albanian prime minister fatos according to pat president of work on the pipeline will begin in and it is expected to be ready in three or four he added that the company had already raised about from the overseas private investment corporation a us development agency the eximbank and credit suisse first among the project has also the support of the european analysts have said that oil companies like exxon mobil and british petroleum would be happy to find alternative routes to the bosphorus and dardanelles\",\n          \"take to the simpson took his new band fightstar to the stage on friday just hours after officially announcing his departure from pop band was greeted by a crowd at the university of confirmation of split had come earlier in the when simpson held a press conference in london with bandmates matt willis and james all three band members stressed that the break up was although bourne admitted he was to hear of has been a really difficult simpson hope the fans will simpson declared he would look back with pride on enormous his focus turned immediately to with press conference coinciding with the start of the tour of the fuelled by this all tickets to see first live appearance at the university of student union sold out mike the promotions had been selling strongly over the past few but sales went mad after the news we had completely sold out by queues outside the venue long and expectations the pressure was on fightstar to although many dedicated fans travelled to the gig from around the they faced a tough crowd made up chiefly of the average age of the audience far exceeding that of any busted gone were the screaming girls to which simpson had become support act fronted by played a short set first and were met with general when fightstar eventually took to the stage around a riotous cheer easily drowned out any hecklers lurking in the the band were initially hindered by technical teething problems as guitar amplifier failed to as sound technicians rushed to fix other band members did their best to when they eventually got under blend of emotionally charged rock was warmly far heavier and less commercial than the band will undoubtedly appeal to a more mature warwick student helen clutterbuck came to check out fightstar because of all the never heard them but pretty less impressed were fellow students ryan crabbe and gordon who charlie has clearly progressed from but still not very fightstar played for around showcasing material from their forthcoming ep called they liked you better when you were due for release in\"\n        ],\n        \"semantic_type\": \"\",\n        \"description\": \"\"\n      }\n    },\n    {\n      \"column\": \"summary\",\n      \"properties\": {\n        \"dtype\": \"string\",\n        \"num_unique_values\": 2079,\n        \"samples\": [\n          \"have to make sure the england and france games are tough for coach john kirwan believes his side can american et england as the six nations wooden spoon battle hots two both without a meet on march at twickenham and kirwan says his side will be hoping to make the most of current i have a lot of confidence in my players and i am positive we can put everything together against are licking their wounds and rueing what might have been had two decisions from referee jonathan kaplan not gone against them in the second half in centre jamie noon believes the side at least showed better form than their previous two have got to make sure we now take the form and positives into the italy have not been having the best of\",\n          \"each of the past years ibm has been granted more us patents than any other company said it wanted to encourage other firms to release patents into what it called a jollans likened the plan for a patent commons to the way the internet was developed and said everyone could take advantage of the result of was granted patents in more than any other firm in the the new york times has received us patents in that period and reportedly has more than current giant ibm says of its software patents will be released into the open development will continue to hold the patents but it has pledged to seek no royalties from the a dr john ibm senior vice technology and intellectual innovation leadership is about more than just the numbers of patents described the step as a in how it dealt with intellectual property and promised further patents would be made freely campaign manager of a group lobbying toprevent software patents becoming legal in the european move as technology business policy is to amass patents and despite announcement the company continues to follow this patents include software for a range of including text recognition and database the ibm has supported the operating system linux although critics have said this was done only as an attempt to undermine\",\n          \"was very happy that came and cared to come up and find out what was really she star was presented with the award by martin who directed him in movie the actress jane who starred in film the said was impressed by quest for authenticity when he previously discussed the role with achievement award was created to commemorate the california anniversary and coincided with portrayal of millionaire howard hughes in the retrospective of his movies was a lifetime achievement which is completely and utterly given only years dicaprio\"\n        ],\n        \"semantic_type\": \"\",\n        \"description\": \"\"\n      }\n    }\n  ]\n}",
              "type": "dataframe",
              "variable_name": "bbc_art_sum"
            },
            "text/html": [
              "\n",
              "  <div id=\"df-d5714c1c-4ed5-448d-9c54-6436ef7b3753\" class=\"colab-df-container\">\n",
              "    <div>\n",
              "<style scoped>\n",
              "    .dataframe tbody tr th:only-of-type {\n",
              "        vertical-align: middle;\n",
              "    }\n",
              "\n",
              "    .dataframe tbody tr th {\n",
              "        vertical-align: top;\n",
              "    }\n",
              "\n",
              "    .dataframe thead th {\n",
              "        text-align: right;\n",
              "    }\n",
              "</style>\n",
              "<table border=\"1\" class=\"dataframe\">\n",
              "  <thead>\n",
              "    <tr style=\"text-align: right;\">\n",
              "      <th></th>\n",
              "      <th>row_article</th>\n",
              "      <th>summary</th>\n",
              "    </tr>\n",
              "  </thead>\n",
              "  <tbody>\n",
              "    <tr>\n",
              "      <th>0</th>\n",
              "      <td>continues rapid economy has expanded by a brea...</td>\n",
              "      <td>overall investment in fixed assets was still u...</td>\n",
              "    </tr>\n",
              "    <tr>\n",
              "      <th>1</th>\n",
              "      <td>deccan seals deccan has ordered airbus planes ...</td>\n",
              "      <td>government has given its backing to cheaper an...</td>\n",
              "    </tr>\n",
              "    <tr>\n",
              "      <th>2</th>\n",
              "      <td>job growth continues in us created fewer jobs ...</td>\n",
              "      <td>creation was one of last main concerns for the...</td>\n",
              "    </tr>\n",
              "    <tr>\n",
              "      <th>3</th>\n",
              "      <td>owner buys rival for retail giant federated de...</td>\n",
              "      <td>retail giant federated department stores is to...</td>\n",
              "    </tr>\n",
              "    <tr>\n",
              "      <th>4</th>\n",
              "      <td>secures giant japan is to supply japan airline...</td>\n",
              "      <td>chose the after carefully considering both it ...</td>\n",
              "    </tr>\n",
              "  </tbody>\n",
              "</table>\n",
              "</div>\n",
              "    <div class=\"colab-df-buttons\">\n",
              "\n",
              "  <div class=\"colab-df-container\">\n",
              "    <button class=\"colab-df-convert\" onclick=\"convertToInteractive('df-d5714c1c-4ed5-448d-9c54-6436ef7b3753')\"\n",
              "            title=\"Convert this dataframe to an interactive table.\"\n",
              "            style=\"display:none;\">\n",
              "\n",
              "  <svg xmlns=\"http://www.w3.org/2000/svg\" height=\"24px\" viewBox=\"0 -960 960 960\">\n",
              "    <path d=\"M120-120v-720h720v720H120Zm60-500h600v-160H180v160Zm220 220h160v-160H400v160Zm0 220h160v-160H400v160ZM180-400h160v-160H180v160Zm440 0h160v-160H620v160ZM180-180h160v-160H180v160Zm440 0h160v-160H620v160Z\"/>\n",
              "  </svg>\n",
              "    </button>\n",
              "\n",
              "  <style>\n",
              "    .colab-df-container {\n",
              "      display:flex;\n",
              "      gap: 12px;\n",
              "    }\n",
              "\n",
              "    .colab-df-convert {\n",
              "      background-color: #E8F0FE;\n",
              "      border: none;\n",
              "      border-radius: 50%;\n",
              "      cursor: pointer;\n",
              "      display: none;\n",
              "      fill: #1967D2;\n",
              "      height: 32px;\n",
              "      padding: 0 0 0 0;\n",
              "      width: 32px;\n",
              "    }\n",
              "\n",
              "    .colab-df-convert:hover {\n",
              "      background-color: #E2EBFA;\n",
              "      box-shadow: 0px 1px 2px rgba(60, 64, 67, 0.3), 0px 1px 3px 1px rgba(60, 64, 67, 0.15);\n",
              "      fill: #174EA6;\n",
              "    }\n",
              "\n",
              "    .colab-df-buttons div {\n",
              "      margin-bottom: 4px;\n",
              "    }\n",
              "\n",
              "    [theme=dark] .colab-df-convert {\n",
              "      background-color: #3B4455;\n",
              "      fill: #D2E3FC;\n",
              "    }\n",
              "\n",
              "    [theme=dark] .colab-df-convert:hover {\n",
              "      background-color: #434B5C;\n",
              "      box-shadow: 0px 1px 3px 1px rgba(0, 0, 0, 0.15);\n",
              "      filter: drop-shadow(0px 1px 2px rgba(0, 0, 0, 0.3));\n",
              "      fill: #FFFFFF;\n",
              "    }\n",
              "  </style>\n",
              "\n",
              "    <script>\n",
              "      const buttonEl =\n",
              "        document.querySelector('#df-d5714c1c-4ed5-448d-9c54-6436ef7b3753 button.colab-df-convert');\n",
              "      buttonEl.style.display =\n",
              "        google.colab.kernel.accessAllowed ? 'block' : 'none';\n",
              "\n",
              "      async function convertToInteractive(key) {\n",
              "        const element = document.querySelector('#df-d5714c1c-4ed5-448d-9c54-6436ef7b3753');\n",
              "        const dataTable =\n",
              "          await google.colab.kernel.invokeFunction('convertToInteractive',\n",
              "                                                    [key], {});\n",
              "        if (!dataTable) return;\n",
              "\n",
              "        const docLinkHtml = 'Like what you see? Visit the ' +\n",
              "          '<a target=\"_blank\" href=https://colab.research.google.com/notebooks/data_table.ipynb>data table notebook</a>'\n",
              "          + ' to learn more about interactive tables.';\n",
              "        element.innerHTML = '';\n",
              "        dataTable['output_type'] = 'display_data';\n",
              "        await google.colab.output.renderOutput(dataTable, element);\n",
              "        const docLink = document.createElement('div');\n",
              "        docLink.innerHTML = docLinkHtml;\n",
              "        element.appendChild(docLink);\n",
              "      }\n",
              "    </script>\n",
              "  </div>\n",
              "\n",
              "\n",
              "<div id=\"df-8244af36-c65e-4592-951d-657750ee6447\">\n",
              "  <button class=\"colab-df-quickchart\" onclick=\"quickchart('df-8244af36-c65e-4592-951d-657750ee6447')\"\n",
              "            title=\"Suggest charts\"\n",
              "            style=\"display:none;\">\n",
              "\n",
              "<svg xmlns=\"http://www.w3.org/2000/svg\" height=\"24px\"viewBox=\"0 0 24 24\"\n",
              "     width=\"24px\">\n",
              "    <g>\n",
              "        <path d=\"M19 3H5c-1.1 0-2 .9-2 2v14c0 1.1.9 2 2 2h14c1.1 0 2-.9 2-2V5c0-1.1-.9-2-2-2zM9 17H7v-7h2v7zm4 0h-2V7h2v10zm4 0h-2v-4h2v4z\"/>\n",
              "    </g>\n",
              "</svg>\n",
              "  </button>\n",
              "\n",
              "<style>\n",
              "  .colab-df-quickchart {\n",
              "      --bg-color: #E8F0FE;\n",
              "      --fill-color: #1967D2;\n",
              "      --hover-bg-color: #E2EBFA;\n",
              "      --hover-fill-color: #174EA6;\n",
              "      --disabled-fill-color: #AAA;\n",
              "      --disabled-bg-color: #DDD;\n",
              "  }\n",
              "\n",
              "  [theme=dark] .colab-df-quickchart {\n",
              "      --bg-color: #3B4455;\n",
              "      --fill-color: #D2E3FC;\n",
              "      --hover-bg-color: #434B5C;\n",
              "      --hover-fill-color: #FFFFFF;\n",
              "      --disabled-bg-color: #3B4455;\n",
              "      --disabled-fill-color: #666;\n",
              "  }\n",
              "\n",
              "  .colab-df-quickchart {\n",
              "    background-color: var(--bg-color);\n",
              "    border: none;\n",
              "    border-radius: 50%;\n",
              "    cursor: pointer;\n",
              "    display: none;\n",
              "    fill: var(--fill-color);\n",
              "    height: 32px;\n",
              "    padding: 0;\n",
              "    width: 32px;\n",
              "  }\n",
              "\n",
              "  .colab-df-quickchart:hover {\n",
              "    background-color: var(--hover-bg-color);\n",
              "    box-shadow: 0 1px 2px rgba(60, 64, 67, 0.3), 0 1px 3px 1px rgba(60, 64, 67, 0.15);\n",
              "    fill: var(--button-hover-fill-color);\n",
              "  }\n",
              "\n",
              "  .colab-df-quickchart-complete:disabled,\n",
              "  .colab-df-quickchart-complete:disabled:hover {\n",
              "    background-color: var(--disabled-bg-color);\n",
              "    fill: var(--disabled-fill-color);\n",
              "    box-shadow: none;\n",
              "  }\n",
              "\n",
              "  .colab-df-spinner {\n",
              "    border: 2px solid var(--fill-color);\n",
              "    border-color: transparent;\n",
              "    border-bottom-color: var(--fill-color);\n",
              "    animation:\n",
              "      spin 1s steps(1) infinite;\n",
              "  }\n",
              "\n",
              "  @keyframes spin {\n",
              "    0% {\n",
              "      border-color: transparent;\n",
              "      border-bottom-color: var(--fill-color);\n",
              "      border-left-color: var(--fill-color);\n",
              "    }\n",
              "    20% {\n",
              "      border-color: transparent;\n",
              "      border-left-color: var(--fill-color);\n",
              "      border-top-color: var(--fill-color);\n",
              "    }\n",
              "    30% {\n",
              "      border-color: transparent;\n",
              "      border-left-color: var(--fill-color);\n",
              "      border-top-color: var(--fill-color);\n",
              "      border-right-color: var(--fill-color);\n",
              "    }\n",
              "    40% {\n",
              "      border-color: transparent;\n",
              "      border-right-color: var(--fill-color);\n",
              "      border-top-color: var(--fill-color);\n",
              "    }\n",
              "    60% {\n",
              "      border-color: transparent;\n",
              "      border-right-color: var(--fill-color);\n",
              "    }\n",
              "    80% {\n",
              "      border-color: transparent;\n",
              "      border-right-color: var(--fill-color);\n",
              "      border-bottom-color: var(--fill-color);\n",
              "    }\n",
              "    90% {\n",
              "      border-color: transparent;\n",
              "      border-bottom-color: var(--fill-color);\n",
              "    }\n",
              "  }\n",
              "</style>\n",
              "\n",
              "  <script>\n",
              "    async function quickchart(key) {\n",
              "      const quickchartButtonEl =\n",
              "        document.querySelector('#' + key + ' button');\n",
              "      quickchartButtonEl.disabled = true;  // To prevent multiple clicks.\n",
              "      quickchartButtonEl.classList.add('colab-df-spinner');\n",
              "      try {\n",
              "        const charts = await google.colab.kernel.invokeFunction(\n",
              "            'suggestCharts', [key], {});\n",
              "      } catch (error) {\n",
              "        console.error('Error during call to suggestCharts:', error);\n",
              "      }\n",
              "      quickchartButtonEl.classList.remove('colab-df-spinner');\n",
              "      quickchartButtonEl.classList.add('colab-df-quickchart-complete');\n",
              "    }\n",
              "    (() => {\n",
              "      let quickchartButtonEl =\n",
              "        document.querySelector('#df-8244af36-c65e-4592-951d-657750ee6447 button');\n",
              "      quickchartButtonEl.style.display =\n",
              "        google.colab.kernel.accessAllowed ? 'block' : 'none';\n",
              "    })();\n",
              "  </script>\n",
              "</div>\n",
              "\n",
              "    </div>\n",
              "  </div>\n"
            ],
            "text/plain": [
              "                                         row_article  \\\n",
              "0  continues rapid economy has expanded by a brea...   \n",
              "1  deccan seals deccan has ordered airbus planes ...   \n",
              "2  job growth continues in us created fewer jobs ...   \n",
              "3  owner buys rival for retail giant federated de...   \n",
              "4  secures giant japan is to supply japan airline...   \n",
              "\n",
              "                                             summary  \n",
              "0  overall investment in fixed assets was still u...  \n",
              "1  government has given its backing to cheaper an...  \n",
              "2  creation was one of last main concerns for the...  \n",
              "3  retail giant federated department stores is to...  \n",
              "4  chose the after carefully considering both it ...  "
            ]
          },
          "execution_count": 35,
          "metadata": {},
          "output_type": "execute_result"
        }
      ],
      "source": [
        "bbc_art_sum = pd.read_csv(\"/content/gdrive/My Drive/Colab Notebooks/NLP/Abstract Summarizer Bi-lstm/00_Extra Materials/cleaned_bbc_news.csv\")\n",
        "bbc_art_sum.drop(\"Unnamed: 0\", axis=1, inplace=True)\n",
        "bbc_art_sum.head()"
      ]
    },
    {
      "cell_type": "code",
      "execution_count": 36,
      "metadata": {
        "id": "P8gjlnalcy3Q"
      },
      "outputs": [],
      "source": [
        "articles = list(bbc_art_sum.row_article)\n",
        "summaries = list(bbc_art_sum.summary)"
      ]
    },
    {
      "cell_type": "markdown",
      "metadata": {
        "id": "WMAuq7Vpcy3Q"
      },
      "source": [
        "### 2-2-1. Tokenize: text_to_word_sequence"
      ]
    },
    {
      "cell_type": "code",
      "execution_count": 37,
      "metadata": {
        "colab": {
          "base_uri": "https://localhost:8080/"
        },
        "id": "W9aALHY_YbUN",
        "outputId": "55d7220a-0927-4262-abbf-8bae4f7c9088"
      },
      "outputs": [
        {
          "data": {
            "text/plain": [
              "23914"
            ]
          },
          "execution_count": 37,
          "metadata": {},
          "output_type": "execute_result"
        }
      ],
      "source": [
        "from keras.preprocessing.text import Tokenizer\n",
        "VOCAB_SIZE = 14999\n",
        "tokenizer = Tokenizer(num_words=VOCAB_SIZE)\n",
        "tokenizer.fit_on_texts(articles)\n",
        "article_sequences = tokenizer.texts_to_sequences(articles)\n",
        "art_word_index = tokenizer.word_index\n",
        "len(art_word_index)"
      ]
    },
    {
      "cell_type": "code",
      "execution_count": 38,
      "metadata": {
        "colab": {
          "base_uri": "https://localhost:8080/"
        },
        "id": "7Ty_qC3_cy3Q",
        "outputId": "f115ffda-976c-4be5-aed2-bcef57ca3929"
      },
      "outputs": [
        {
          "name": "stdout",
          "output_type": "stream",
          "text": [
            "[1411, 2338, 248, 16, 3994, 22, 5, 6483, 165, 1359, 50, 966, 4, 120, 967, 176, 118, 505, 38, 2339]\n",
            "[5211, 8881, 5211, 16, 2233, 3001, 3441, 6, 5, 217, 18, 60, 1270, 7874, 6, 1, 827, 5211, 11, 108]\n",
            "[478, 196, 1411, 6, 54, 736, 2283, 498, 50, 164, 6, 24, 349, 17, 9, 1, 3322, 6, 5213, 11]\n"
          ]
        }
      ],
      "source": [
        "print(article_sequences[0][:20])\n",
        "print(article_sequences[1][:20])\n",
        "print(article_sequences[2][:20])"
      ]
    },
    {
      "cell_type": "markdown",
      "metadata": {
        "id": "-Wm2tdpPcy3R"
      },
      "source": [
        "### 2-2-2. Vocabraly: article and summary 15000 words"
      ]
    },
    {
      "cell_type": "code",
      "execution_count": 39,
      "metadata": {
        "id": "ZcPk3tzfcy3R"
      },
      "outputs": [],
      "source": [
        "art_word_index_1500 = {}\n",
        "counter = 0\n",
        "for word in art_word_index.keys():\n",
        "    if art_word_index[word] == 0:\n",
        "        print(\"found 0!\")\n",
        "        break\n",
        "    if art_word_index[word] > VOCAB_SIZE:\n",
        "        continue\n",
        "    else:\n",
        "        art_word_index_1500[word] = art_word_index[word]\n",
        "        counter += 1"
      ]
    },
    {
      "cell_type": "code",
      "execution_count": 40,
      "metadata": {
        "colab": {
          "base_uri": "https://localhost:8080/"
        },
        "id": "R83WFBDicy3R",
        "outputId": "391407f0-8a7f-451f-eca5-43f37ba8deb8"
      },
      "outputs": [
        {
          "data": {
            "text/plain": [
              "14999"
            ]
          },
          "execution_count": 40,
          "metadata": {},
          "output_type": "execute_result"
        }
      ],
      "source": [
        "counter"
      ]
    },
    {
      "cell_type": "code",
      "execution_count": 41,
      "metadata": {
        "colab": {
          "base_uri": "https://localhost:8080/"
        },
        "id": "oFhPICk_cy3R",
        "outputId": "10454d76-2a61-440b-a3e3-d80408666a58"
      },
      "outputs": [
        {
          "data": {
            "text/plain": [
              "23929"
            ]
          },
          "execution_count": 41,
          "metadata": {},
          "output_type": "execute_result"
        }
      ],
      "source": [
        "tokenizer.fit_on_texts(summaries)\n",
        "summary_sequences = tokenizer.texts_to_sequences(summaries)\n",
        "sum_word_index = tokenizer.word_index\n",
        "len(sum_word_index)"
      ]
    },
    {
      "cell_type": "code",
      "execution_count": 42,
      "metadata": {
        "id": "qnkeUj4Kcy3R"
      },
      "outputs": [],
      "source": [
        "sum_word_index_1500 = {}\n",
        "counter = 0\n",
        "for word in sum_word_index.keys():\n",
        "    if sum_word_index[word] == 0:\n",
        "        print(\"found 0!\")\n",
        "        break\n",
        "    if sum_word_index[word] > VOCAB_SIZE:\n",
        "        continue\n",
        "    else:\n",
        "        sum_word_index_1500[word] = sum_word_index[word]\n",
        "        counter += 1"
      ]
    },
    {
      "cell_type": "code",
      "execution_count": 43,
      "metadata": {
        "colab": {
          "base_uri": "https://localhost:8080/"
        },
        "id": "ZEAtu2Nhcy3V",
        "outputId": "12ca5eea-e1c0-473b-b1e6-6399385d37b6"
      },
      "outputs": [
        {
          "data": {
            "text/plain": [
              "14999"
            ]
          },
          "execution_count": 43,
          "metadata": {},
          "output_type": "execute_result"
        }
      ],
      "source": [
        "counter"
      ]
    },
    {
      "cell_type": "markdown",
      "metadata": {
        "id": "-WncbDp6cy3W"
      },
      "source": [
        "### 2-2-3. Padding: pad_sequences 1000 max_len"
      ]
    },
    {
      "cell_type": "code",
      "execution_count": 44,
      "metadata": {
        "id": "mVBiWdfLcy3W"
      },
      "outputs": [],
      "source": [
        "from keras.preprocessing.sequence import pad_sequences\n",
        "MAX_LEN = 1000\n",
        "pad_art_sequences = pad_sequences(article_sequences, maxlen=MAX_LEN, padding='post', truncating='post')"
      ]
    },
    {
      "cell_type": "code",
      "execution_count": 45,
      "metadata": {
        "colab": {
          "base_uri": "https://localhost:8080/"
        },
        "id": "zUxWftwHcy3W",
        "outputId": "fcb0155b-fb6c-47cf-ce42-dc37cf56cf46"
      },
      "outputs": [
        {
          "name": "stdout",
          "output_type": "stream",
          "text": [
            "243 1000\n"
          ]
        }
      ],
      "source": [
        "print(len(article_sequences[1]), len(pad_art_sequences[1]))"
      ]
    },
    {
      "cell_type": "code",
      "execution_count": 46,
      "metadata": {
        "id": "tbdkOangcy3W"
      },
      "outputs": [],
      "source": [
        "pad_sum_sequences = pad_sequences(summary_sequences, maxlen=MAX_LEN, padding='post', truncating='post')"
      ]
    },
    {
      "cell_type": "code",
      "execution_count": 47,
      "metadata": {
        "colab": {
          "base_uri": "https://localhost:8080/"
        },
        "id": "o3EviLK9cy3W",
        "outputId": "5b384436-70ee-474d-83f3-1fd56b3ab9d3"
      },
      "outputs": [
        {
          "name": "stdout",
          "output_type": "stream",
          "text": [
            "90 1000\n"
          ]
        }
      ],
      "source": [
        "print(len(summary_sequences[1]), len(pad_sum_sequences[1]))"
      ]
    },
    {
      "cell_type": "code",
      "execution_count": 48,
      "metadata": {
        "colab": {
          "base_uri": "https://localhost:8080/"
        },
        "id": "BNiBRcHncy3X",
        "outputId": "ca10a562-4ccc-4d11-c604-2afb3f3770f9"
      },
      "outputs": [
        {
          "data": {
            "text/plain": [
              "(2225, 1000)"
            ]
          },
          "execution_count": 48,
          "metadata": {},
          "output_type": "execute_result"
        }
      ],
      "source": [
        "pad_art_sequences.shape"
      ]
    },
    {
      "cell_type": "code",
      "execution_count": 49,
      "metadata": {
        "colab": {
          "base_uri": "https://localhost:8080/"
        },
        "id": "ynJDcD6ocy3X",
        "outputId": "2138b096-1d6f-4c5c-f1b4-0957080361fd"
      },
      "outputs": [
        {
          "data": {
            "text/plain": [
              "array([[1411, 2338,  248, ...,    0,    0,    0],\n",
              "       [5211, 8881, 5211, ...,    0,    0,    0],\n",
              "       [ 478,  196, 1411, ...,    0,    0,    0],\n",
              "       ...,\n",
              "       [ 421, 1337, 2012, ...,    0,    0,    0],\n",
              "       [2164,  267, 1109, ...,    0,    0,    0],\n",
              "       [   7,  284,    8, ...,    0,    0,    0]], dtype=int32)"
            ]
          },
          "execution_count": 49,
          "metadata": {},
          "output_type": "execute_result"
        }
      ],
      "source": [
        "pad_art_sequences"
      ]
    },
    {
      "cell_type": "markdown",
      "metadata": {
        "id": "-ji4KJPKcy3X"
      },
      "source": [
        "### 2-2-4. Reshape: manual max_len * one-hot matrix"
      ]
    },
    {
      "cell_type": "code",
      "execution_count": 51,
      "metadata": {
        "colab": {
          "base_uri": "https://localhost:8080/",
          "height": 70
        },
        "id": "Hdb5HaLbcy3X",
        "outputId": "76052887-623a-4e0b-f6b5-773f3d12cc84"
      },
      "outputs": [
        {
          "data": {
            "application/vnd.google.colaboratory.intrinsic+json": {
              "type": "string"
            },
            "text/plain": [
              "\"\\nencoder_inputs = np.zeros((2225, 1000), dtype='float32')\\nencoder_inputs.shape\\n\\ndecoder_inputs = np.zeros((2225, 1000), dtype='float32')\\ndecoder_inputs.shape\\n\\nfor i, seqs in enumerate(pad_art_sequences):\\n    for j, seq in enumerate(seqs):\\n        encoder_inputs[i, j] = seq\\n\\nfor i, seqs in enumerate(pad_sum_sequences):\\n    for j, seq in enumerate(seqs):\\n        decoder_inputs[i, j] = seq\\n\""
            ]
          },
          "execution_count": 51,
          "metadata": {},
          "output_type": "execute_result"
        }
      ],
      "source": [
        "# unused\n",
        "\"\"\"\n",
        "encoder_inputs = np.zeros((2225, 1000), dtype='float32')\n",
        "encoder_inputs.shape\n",
        "\n",
        "decoder_inputs = np.zeros((2225, 1000), dtype='float32')\n",
        "decoder_inputs.shape\n",
        "\n",
        "for i, seqs in enumerate(pad_art_sequences):\n",
        "    for j, seq in enumerate(seqs):\n",
        "        encoder_inputs[i, j] = seq\n",
        "\n",
        "for i, seqs in enumerate(pad_sum_sequences):\n",
        "    for j, seq in enumerate(seqs):\n",
        "        decoder_inputs[i, j] = seq\n",
        "\"\"\""
      ]
    },
    {
      "cell_type": "code",
      "execution_count": 52,
      "metadata": {
        "colab": {
          "base_uri": "https://localhost:8080/"
        },
        "id": "l6OKmJW-cy3Y",
        "outputId": "364dffb5-3fd7-41dd-8463-4af9e32d0fac"
      },
      "outputs": [
        {
          "data": {
            "text/plain": [
              "(2225, 1000, 15000)"
            ]
          },
          "execution_count": 52,
          "metadata": {},
          "output_type": "execute_result"
        }
      ],
      "source": [
        "decoder_outputs = np.zeros((2225, 1000, 15000), dtype='float32')\n",
        "decoder_outputs.shape"
      ]
    },
    {
      "cell_type": "code",
      "execution_count": 53,
      "metadata": {
        "id": "zqZDP8ypcy3Y"
      },
      "outputs": [],
      "source": [
        "for i, seqs in enumerate(pad_sum_sequences):\n",
        "    for j, seq in enumerate(seqs):\n",
        "        decoder_outputs[i, j, seq] = 1."
      ]
    },
    {
      "cell_type": "code",
      "execution_count": 54,
      "metadata": {
        "colab": {
          "base_uri": "https://localhost:8080/"
        },
        "id": "O8wZjeYscy3Y",
        "outputId": "60c2f33c-a42a-4053-91c3-901ba6afac40"
      },
      "outputs": [
        {
          "data": {
            "text/plain": [
              "(2225, 1000, 15000)"
            ]
          },
          "execution_count": 54,
          "metadata": {},
          "output_type": "execute_result"
        }
      ],
      "source": [
        "decoder_outputs.shape"
      ]
    },
    {
      "cell_type": "markdown",
      "metadata": {
        "id": "OJEdRfL1cy3Y"
      },
      "source": [
        "### 2-2-5. Pre-trained word2vec and word2vec Matrix"
      ]
    },
    {
      "cell_type": "code",
      "execution_count": null,
      "metadata": {},
      "outputs": [],
      "source": [
        "embeddings_index = {}\n",
        "with open('glove.6B.200d.txt', encoding='utf-8') as f:\n",
        "    for line in f:\n",
        "        values = line.split()\n",
        "        word = values[0]\n",
        "        coefs = np.asarray(values[1:], dtype='float32')\n",
        "        embeddings_index[word] = coefs\n",
        "    f.close()\n",
        "\n",
        "print('Found %s word vectors.' % len(embeddings_index))"
      ]
    },
    {
      "cell_type": "code",
      "execution_count": null,
      "metadata": {
        "id": "kdx3r2rvZAwN"
      },
      "outputs": [],
      "source": [
        "def embedding_matrix_creater(embedding_dimention, word_index):\n",
        "    embedding_matrix = np.zeros((len(word_index) + 1, embedding_dimention))\n",
        "    for word, i in word_index.items():\n",
        "        embedding_vector = embeddings_index.get(word)\n",
        "        if embedding_vector is not None:\n",
        "          # words not found in embedding index will be all-zeros.\n",
        "            embedding_matrix[i] = embedding_vector\n",
        "    return embedding_matrix"
      ]
    },
    {
      "cell_type": "code",
      "execution_count": null,
      "metadata": {
        "colab": {
          "base_uri": "https://localhost:8080/",
          "height": 34
        },
        "id": "VB6UmXeqWleO",
        "outputId": "59e76cc0-91a2-454b-a61e-f7cb1b2cf59a"
      },
      "outputs": [
        {
          "data": {
            "text/plain": [
              "(15000, 200)"
            ]
          },
          "execution_count": 22,
          "metadata": {},
          "output_type": "execute_result"
        }
      ],
      "source": [
        "art_embedding_matrix = embedding_matrix_creater(200, word_index=art_word_index_1500)\n",
        "art_embedding_matrix.shape"
      ]
    },
    {
      "cell_type": "code",
      "execution_count": null,
      "metadata": {
        "colab": {
          "base_uri": "https://localhost:8080/",
          "height": 34
        },
        "id": "1KgrdRFvb7A1",
        "outputId": "e01036f5-476b-46eb-bec7-1ad263ba9dd0"
      },
      "outputs": [
        {
          "data": {
            "text/plain": [
              "(15000, 200)"
            ]
          },
          "execution_count": 23,
          "metadata": {},
          "output_type": "execute_result"
        }
      ],
      "source": [
        "sum_embedding_matrix = embedding_matrix_creater(200, word_index=sum_word_index_1500)\n",
        "sum_embedding_matrix.shape"
      ]
    },
    {
      "cell_type": "code",
      "execution_count": null,
      "metadata": {
        "id": "vuawT3rXUIBY"
      },
      "outputs": [],
      "source": [
        "encoder_embedding_layer = Embedding(input_dim = 15000,\n",
        "                                    output_dim = 200,\n",
        "                                    input_length = MAX_LEN,\n",
        "                                    weights = [art_embedding_matrix],\n",
        "                                    trainable = False)"
      ]
    },
    {
      "cell_type": "code",
      "execution_count": null,
      "metadata": {
        "id": "Wf3EzUZcIccZ"
      },
      "outputs": [],
      "source": [
        "decoder_embedding_layer = Embedding(input_dim = 15000,\n",
        "                                    output_dim = 200,\n",
        "                                    input_length = MAX_LEN,\n",
        "                                    weights = [sum_embedding_matrix],\n",
        "                                    trainable = False)"
      ]
    },
    {
      "cell_type": "code",
      "execution_count": null,
      "metadata": {
        "colab": {
          "base_uri": "https://localhost:8080/",
          "height": 34
        },
        "id": "J5acWwCxIcZz",
        "outputId": "a92cd279-b2de-4110-fd1d-35e13e90c099"
      },
      "outputs": [
        {
          "data": {
            "text/plain": [
              "(15000, 200)"
            ]
          },
          "execution_count": 26,
          "metadata": {},
          "output_type": "execute_result"
        }
      ],
      "source": [
        "sum_embedding_matrix.shape"
      ]
    },
    {
      "cell_type": "markdown",
      "metadata": {
        "id": "AB663AaY0PKH"
      },
      "source": [
        "## Step 3. Building Encoder-Decoder Model"
      ]
    },
    {
      "cell_type": "code",
      "execution_count": 60,
      "metadata": {
        "colab": {
          "base_uri": "https://localhost:8080/"
        },
        "id": "W-kZT0pQRqRl",
        "outputId": "89ab3805-6108-4c64-9fd0-be54bb5c5ce4"
      },
      "outputs": [
        {
          "name": "stdout",
          "output_type": "stream",
          "text": [
            "Requirement already satisfied: chart_studio in /usr/local/lib/python3.10/dist-packages (1.1.0)\n",
            "Requirement already satisfied: plotly in /usr/local/lib/python3.10/dist-packages (from chart_studio) (5.15.0)\n",
            "Requirement already satisfied: requests in /usr/local/lib/python3.10/dist-packages (from chart_studio) (2.31.0)\n",
            "Requirement already satisfied: retrying>=1.3.3 in /usr/local/lib/python3.10/dist-packages (from chart_studio) (1.3.4)\n",
            "Requirement already satisfied: six in /usr/local/lib/python3.10/dist-packages (from chart_studio) (1.16.0)\n",
            "Requirement already satisfied: tenacity>=6.2.0 in /usr/local/lib/python3.10/dist-packages (from plotly->chart_studio) (8.5.0)\n",
            "Requirement already satisfied: packaging in /usr/local/lib/python3.10/dist-packages (from plotly->chart_studio) (24.1)\n",
            "Requirement already satisfied: charset-normalizer<4,>=2 in /usr/local/lib/python3.10/dist-packages (from requests->chart_studio) (3.3.2)\n",
            "Requirement already satisfied: idna<4,>=2.5 in /usr/local/lib/python3.10/dist-packages (from requests->chart_studio) (3.7)\n",
            "Requirement already satisfied: urllib3<3,>=1.21.1 in /usr/local/lib/python3.10/dist-packages (from requests->chart_studio) (2.0.7)\n",
            "Requirement already satisfied: certifi>=2017.4.17 in /usr/local/lib/python3.10/dist-packages (from requests->chart_studio) (2024.7.4)\n"
          ]
        }
      ],
      "source": [
        "from numpy.random import seed\n",
        "seed(1)\n",
        "\n",
        "from sklearn.model_selection import train_test_split\n",
        "import logging\n",
        "\n",
        "!pip install chart_studio\n",
        "import chart_studio.plotly as py\n",
        "#Import the rest of the modules\n",
        "import plotly.graph_objs as go\n",
        "import matplotlib.pyplot as plt\n",
        "import pandas as pd\n",
        "import pydot\n",
        "\n",
        "\n",
        "import keras\n",
        "from keras import backend as k\n",
        "k.set_learning_phase(1)\n",
        "from keras.preprocessing.text import Tokenizer\n",
        "from keras import initializers\n",
        "from keras.optimizers import RMSprop\n",
        "from keras.models import Sequential,Model\n",
        "from keras.layers import Dense,LSTM,Dropout,Input,Activation,Add,concatenate, Embedding, RepeatVector\n",
        "# from keras.layers.advanced_activations import LeakyReLU,PReLU\n",
        "from keras.callbacks import ModelCheckpoint\n",
        "from keras.models import load_model\n",
        "from keras.optimizers import Adam\n"
      ]
    },
    {
      "cell_type": "code",
      "execution_count": 61,
      "metadata": {
        "id": "r_5n1JQ_cy3b"
      },
      "outputs": [],
      "source": [
        "from keras.layers import TimeDistributed"
      ]
    },
    {
      "cell_type": "code",
      "execution_count": 62,
      "metadata": {
        "id": "psWPxabWIcWz"
      },
      "outputs": [],
      "source": [
        "# Hyperparams\n",
        "\n",
        "MAX_LEN = 1000\n",
        "VOCAB_SIZE =15000\n",
        "EMBEDDING_DIM = 200\n",
        "HIDDEN_UNITS = 200\n",
        "VOCAB_SIZE = VOCAB_SIZE + 1\n",
        "\n",
        "LEARNING_RATE = 0.002\n",
        "BATCH_SIZE = 32\n",
        "EPOCHS = 5"
      ]
    },
    {
      "cell_type": "markdown",
      "metadata": {
        "id": "LcRgr3oUcy3c"
      },
      "source": [
        "### Model 1. Simple LSTM Encoder-Decoder-seq2seq"
      ]
    },
    {
      "cell_type": "code",
      "execution_count": null,
      "metadata": {},
      "outputs": [],
      "source": [
        "\"\"\"\n",
        "Simple LSTM Encoder-Decoder-seq2seq\n",
        "\"\"\"\n",
        "# encoder\n",
        "encoder_inputs = Input(shape=(MAX_LEN, ), dtype='int32',)\n",
        "encoder_embedding = encoder_embedding_layer(encoder_inputs)\n",
        "encoder_LSTM = LSTM(HIDDEN_UNITS)(encoder_embedding)\n",
        "# decoder\n",
        "decoder_inputs = Input(shape=(MAX_LEN, ))\n",
        "decoder_embedding = decoder_embedding_layer(decoder_inputs)\n",
        "decoder_LSTM = LSTM(200)(decoder_embedding)\n",
        "# merge\n",
        "merge_layer = concatenate([encoder_LSTM, decoder_LSTM])\n",
        "decoder_outputs = Dense(units=VOCAB_SIZE+1, activation=\"softmax\")(merge_layer) # SUM_VOCAB_SIZE, sum_embedding_matrix.shape[1]\n",
        "\n",
        "model = Model([encoder_inputs, decoder_inputs], decoder_outputs)\n",
        "model.summary()"
      ]
    },
    {
      "cell_type": "code",
      "execution_count": null,
      "metadata": {
        "id": "JHw0flwp4uW2"
      },
      "outputs": [],
      "source": [
        "model.compile(optimizer=\"adam\", loss=\"categorical_crossentropy\", metrics=[\"accuracy\"])"
      ]
    },
    {
      "cell_type": "markdown",
      "metadata": {
        "id": "pf8Sd0ohcy3c"
      },
      "source": [
        "### Model 2. Bidirectional LSTM Encoder-Decoder-seq2seq"
      ]
    },
    {
      "cell_type": "code",
      "execution_count": null,
      "metadata": {
        "id": "Aw2QCjPDcy3c"
      },
      "outputs": [],
      "source": [
        "\"\"\"\n",
        "Bidirectional LSTM: Others Inspired Encoder-Decoder-seq2seq\n",
        "\"\"\"\n",
        "encoder_inputs = Input(shape=(MAX_LEN,))\n",
        "encoder_embedding = encoder_embedding_layer(encoder_inputs)\n",
        "encoder_LSTM = LSTM(HIDDEN_UNITS, return_state=True)\n",
        "encoder_LSTM_R = LSTM(HIDDEN_UNITS, return_state=True, go_backwards=True)\n",
        "encoder_outputs_R, state_h_R, state_c_R = encoder_LSTM_R(encoder_embedding)\n",
        "encoder_outputs, state_h, state_c = encoder_LSTM(encoder_embedding)\n",
        "\n",
        "final_h = Add()([state_h, state_h_R])\n",
        "final_c = Add()([state_c, state_c_R])\n",
        "encoder_states = [final_h, final_c]\n",
        "\n",
        "\"\"\"\n",
        "decoder\n",
        "\"\"\"\n",
        "decoder_inputs = Input(shape=(MAX_LEN,))\n",
        "decoder_embedding = decoder_embedding_layer(decoder_inputs)\n",
        "decoder_LSTM = LSTM(HIDDEN_UNITS, return_sequences=True, return_state=True)\n",
        "decoder_outputs, _, _ = decoder_LSTM(decoder_embedding, initial_state=encoder_states)\n",
        "decoder_dense = Dense(VOCAB_SIZE, activation='linear')\n",
        "decoder_outputs = decoder_dense(decoder_outputs)\n",
        "\n",
        "model= Model(inputs=[encoder_inputs,decoder_inputs], outputs=decoder_outputs)"
      ]
    },
    {
      "cell_type": "markdown",
      "metadata": {
        "id": "2WjrJNI-cy3c"
      },
      "source": [
        "### Model 3. Chatbot Inspired Encoder-Decoder-seq2seq"
      ]
    },
    {
      "cell_type": "code",
      "execution_count": null,
      "metadata": {
        "id": "mgR26gIFcy3d"
      },
      "outputs": [],
      "source": [
        "\"\"\"\n",
        "Chatbot Inspired Encoder-Decoder-seq2seq\n",
        "\"\"\"\n",
        "encoder_inputs = Input(shape=(MAX_LEN, ), dtype='int32',)\n",
        "encoder_embedding = encoder_embedding_layer(encoder_inputs)\n",
        "encoder_LSTM = LSTM(HIDDEN_UNITS, return_state=True)\n",
        "encoder_outputs, state_h, state_c = encoder_LSTM(encoder_embedding)\n",
        "\n",
        "decoder_inputs = Input(shape=(MAX_LEN, ), dtype='int32',)\n",
        "decoder_embedding = decoder_embedding_layer(decoder_inputs)\n",
        "decoder_LSTM = LSTM(HIDDEN_UNITS, return_state=True, return_sequences=True)\n",
        "decoder_outputs, _, _ = decoder_LSTM(decoder_embedding, initial_state=[state_h, state_c])\n",
        "\n",
        "# dense_layer = Dense(VOCAB_SIZE, activation='softmax')\n",
        "outputs = TimeDistributed(Dense(VOCAB_SIZE, activation='softmax'))(decoder_outputs)\n",
        "model = Model([encoder_inputs, decoder_inputs], outputs)"
      ]
    },
    {
      "cell_type": "code",
      "execution_count": null,
      "metadata": {
        "id": "pHI0tAzxcy3d"
      },
      "outputs": [],
      "source": [
        "rmsprop = RMSprop(lr=0.01, clipnorm=1.)\n",
        "model.compile(loss='mse', optimizer=rmsprop, metrics=[\"accuracy\"])"
      ]
    },
    {
      "cell_type": "code",
      "execution_count": null,
      "metadata": {
        "id": "FVZfNQz5cy3d",
        "outputId": "89c18633-173a-4a7d-d861-0d992c347d4d"
      },
      "outputs": [
        {
          "name": "stdout",
          "output_type": "stream",
          "text": [
            "__________________________________________________________________________________________________\n",
            "Layer (type)                    Output Shape         Param #     Connected to                     \n",
            "==================================================================================================\n",
            "input_1 (InputLayer)            (None, 1000)         0                                            \n",
            "__________________________________________________________________________________________________\n",
            "embedding_1 (Embedding)         (None, 1000, 200)    3000000     input_1[0][0]                    \n",
            "__________________________________________________________________________________________________\n",
            "input_2 (InputLayer)            (None, 1000)         0                                            \n",
            "__________________________________________________________________________________________________\n",
            "lstm_1 (LSTM)                   [(None, 200), (None, 320800      embedding_1[0][0]                \n",
            "__________________________________________________________________________________________________\n",
            "lstm_2 (LSTM)                   [(None, 200), (None, 320800      embedding_1[0][0]                \n",
            "__________________________________________________________________________________________________\n",
            "embedding_2 (Embedding)         (None, 1000, 200)    3000000     input_2[0][0]                    \n",
            "__________________________________________________________________________________________________\n",
            "add_1 (Add)                     (None, 200)          0           lstm_1[0][1]                     \n",
            "                                                                 lstm_2[0][1]                     \n",
            "__________________________________________________________________________________________________\n",
            "add_2 (Add)                     (None, 200)          0           lstm_1[0][2]                     \n",
            "                                                                 lstm_2[0][2]                     \n",
            "__________________________________________________________________________________________________\n",
            "lstm_3 (LSTM)                   [(None, 1000, 200),  320800      embedding_2[0][0]                \n",
            "                                                                 add_1[0][0]                      \n",
            "                                                                 add_2[0][0]                      \n",
            "__________________________________________________________________________________________________\n",
            "dense_1 (Dense)                 (None, 1000, 15001)  3015201     lstm_3[0][0]                     \n",
            "==================================================================================================\n",
            "Total params: 9,977,601\n",
            "Trainable params: 3,977,601\n",
            "Non-trainable params: 6,000,000\n",
            "__________________________________________________________________________________________________\n"
          ]
        }
      ],
      "source": [
        "# model 2\n",
        "model.summary()"
      ]
    },
    {
      "cell_type": "markdown",
      "metadata": {
        "id": "uveJwWzxcy3d"
      },
      "source": [
        "## Step 4. Training your model and Validate it"
      ]
    },
    {
      "cell_type": "code",
      "execution_count": null,
      "metadata": {
        "id": "o5RDZdkicy3d"
      },
      "outputs": [],
      "source": [
        "import numpy as np\n",
        "num_samples = len(pad_sum_sequences)\n",
        "decoder_output_data = np.zeros((num_samples, MAX_LEN, VOCAB_SIZE), dtype=\"int32\")"
      ]
    },
    {
      "cell_type": "code",
      "execution_count": null,
      "metadata": {
        "id": "5LGH4pcvcy3e"
      },
      "outputs": [],
      "source": [
        "# 3d Tensor of output\n",
        "for i, seqs in enumerate(pad_sum_sequences):\n",
        "    for j, seq in enumerate(seqs):\n",
        "        if j > 0:\n",
        "            decoder_output_data[i][j][seq] = 1"
      ]
    },
    {
      "cell_type": "code",
      "execution_count": null,
      "metadata": {
        "id": "EFxSEKvfIoGf"
      },
      "outputs": [],
      "source": [
        "art_train, art_test, sum_train, sum_test = train_test_split(pad_art_sequences, pad_sum_sequences, test_size=0.2)"
      ]
    },
    {
      "cell_type": "code",
      "execution_count": null,
      "metadata": {
        "colab": {
          "base_uri": "https://localhost:8080/",
          "height": 34
        },
        "id": "9hn_1hm-JCa2",
        "outputId": "95c79153-06ec-4b2d-b25e-6f34c933ae44"
      },
      "outputs": [
        {
          "data": {
            "text/plain": [
              "1780"
            ]
          },
          "execution_count": 33,
          "metadata": {},
          "output_type": "execute_result"
        }
      ],
      "source": [
        "train_num = art_train.shape[0]\n",
        "train_num"
      ]
    },
    {
      "cell_type": "code",
      "execution_count": null,
      "metadata": {
        "id": "vfnYbgeucy3e"
      },
      "outputs": [],
      "source": [
        "target_train = decoder_output_data[:train_num]\n",
        "target_test = decoder_output_data[train_num:]"
      ]
    },
    {
      "cell_type": "code",
      "execution_count": null,
      "metadata": {
        "id": "_VJHYsSDcy3e",
        "outputId": "284a03c2-5e5f-4cf3-85b8-33986bde5f7d"
      },
      "outputs": [
        {
          "name": "stdout",
          "output_type": "stream",
          "text": [
            "Train on 1780 samples, validate on 445 samples\n",
            "Epoch 1/5\n",
            " 896/1780 [==============>...............] - ETA: 1:46:08 - loss: 4.1167e-04 - acc: 0.8187"
          ]
        }
      ],
      "source": [
        "history = model.fit([art_train, sum_train],\n",
        "                     target_train,\n",
        "                     epochs=EPOCHS,\n",
        "                     batch_size=BATCH_SIZE,\n",
        "                     validation_data=([art_test, sum_test], target_test))"
      ]
    },
    {
      "cell_type": "markdown",
      "metadata": {
        "id": "69-asilMcy3e"
      },
      "source": [
        "#### Visualization"
      ]
    },
    {
      "cell_type": "code",
      "execution_count": null,
      "metadata": {
        "id": "OiS9JTdTcy3e"
      },
      "outputs": [],
      "source": [
        "# Accuracy\n",
        "import matplotlib.pyplot as plt\n",
        "%matplotlib inline\n",
        "\n",
        "plt.figure(figsize=(10, 6))\n",
        "plt.plot(history.history['acc'])\n",
        "plt.plot(history.history['val_acc'])\n",
        "plt.title('model accuracy')\n",
        "plt.ylabel('accuracy')\n",
        "plt.xlabel('epoch')\n",
        "plt.legend(['train', 'test'], loc='upper left')\n",
        "plt.show()"
      ]
    },
    {
      "cell_type": "code",
      "execution_count": null,
      "metadata": {
        "id": "wO___60hcy3f"
      },
      "outputs": [],
      "source": [
        "# Loss function\n",
        "plt.figure(figsize=(10, 6))\n",
        "plt.plot(history.history['loss'])\n",
        "# plt.plot(history.history['val_loss'])\n",
        "plt.title('model loss')\n",
        "plt.ylabel('loss')\n",
        "plt.xlabel('epoch')\n",
        "# plt.legend(['train', 'test'], loc='upper left')\n",
        "plt.show()"
      ]
    },
    {
      "cell_type": "code",
      "execution_count": null,
      "metadata": {
        "id": "5vxCS48Ecy3f"
      },
      "outputs": [],
      "source": [
        "# loading the model\n",
        "with open('text_summary.json',\"w\").write(model.to_json())\n",
        "\n",
        "# loading the weights\n",
        "model.load_weights('text_summary.h5')\n",
        "print(\"Saved Model!\")"
      ]
    }
  ],
  "metadata": {
    "colab": {
      "provenance": []
    },
    "kernelspec": {
      "display_name": "Python 3",
      "language": "python",
      "name": "python3"
    },
    "language_info": {
      "codemirror_mode": {
        "name": "ipython",
        "version": 3
      },
      "file_extension": ".py",
      "mimetype": "text/x-python",
      "name": "python",
      "nbconvert_exporter": "python",
      "pygments_lexer": "ipython3",
      "version": "3.12.4"
    }
  },
  "nbformat": 4,
  "nbformat_minor": 0
}
